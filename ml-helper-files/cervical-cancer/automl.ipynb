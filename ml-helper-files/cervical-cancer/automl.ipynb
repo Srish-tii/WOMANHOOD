{
 "cells": [
  {
   "cell_type": "markdown",
   "metadata": {},
   "source": [
    "# Automated ML for Cervical Cancer Classification"
   ]
  },
  {
   "cell_type": "code",
   "execution_count": 1,
   "metadata": {
    "gather": {
     "logged": 1611391923709
    },
    "jupyter": {
     "outputs_hidden": false,
     "source_hidden": false
    },
    "nteract": {
     "transient": {
      "deleting": false
     }
    }
   },
   "outputs": [],
   "source": [
    "from azureml.core import Workspace, Experiment\n",
    "from azureml.data.dataset_factory import TabularDatasetFactory\n",
    "from train import clean_data\n",
    "import pandas as pd\n",
    "from sklearn.model_selection import train_test_split\n",
    "import os\n",
    "from azureml.core.compute import ComputeTarget, AmlCompute\n",
    "from azureml.core.compute_target import ComputeTargetException\n",
    "from azureml.train.automl import AutoMLConfig\n",
    "from azureml.widgets import RunDetails"
   ]
  },
  {
   "cell_type": "markdown",
   "metadata": {
    "nteract": {
     "transient": {
      "deleting": false
     }
    }
   },
   "source": [
    "We start by setting up our experiment in our workspace."
   ]
  },
  {
   "cell_type": "code",
   "execution_count": 2,
   "metadata": {
    "gather": {
     "logged": 1611391928389
    },
    "jupyter": {
     "outputs_hidden": false,
     "source_hidden": false
    },
    "nteract": {
     "transient": {
      "deleting": false
     }
    }
   },
   "outputs": [
    {
     "name": "stdout",
     "output_type": "stream",
     "text": [
      "Workspace name: quick-starts-ws-135758\n",
      "Azure region: southcentralus\n",
      "Subscription id: 510b94ba-e453-4417-988b-fbdc37b55ca7\n",
      "Resource group: aml-quickstarts-135758\n"
     ]
    }
   ],
   "source": [
    "ws = Workspace.from_config()\n",
    "\n",
    "# choose a name for experiment\n",
    "experiment_name = 'cc_automl'\n",
    "\n",
    "experiment=Experiment(ws, experiment_name)\n",
    "\n",
    "print('Workspace name: ' + ws.name, \n",
    "      'Azure region: ' + ws.location, \n",
    "      'Subscription id: ' + ws.subscription_id, \n",
    "      'Resource group: ' + ws.resource_group, sep = '\\n')\n",
    "\n",
    "run = experiment.start_logging()"
   ]
  },
  {
   "cell_type": "markdown",
   "metadata": {},
   "source": [
    "## Dataset\n",
    "\n",
    "We're using the [UCI's Machine Learning repository's Cervical cancer (Risk Factors) Data Set](https://archive.ics.uci.edu/ml/datasets/Cervical+cancer+%28Risk+Factors%29). The dataset was collected at 'Hospital Universitario de Caracas' in Caracas, Venezuela. The dataset comprises demographic information, habits, and historic medical records of 858 patients. Several patients decided not to answer some of the questions because of privacy concerns (missing values).\n",
    "\n",
    "**Citation: Kelwin Fernandes, Jaime S. Cardoso, and Jessica Fernandes. 'Transfer Learning with Partial Observability Applied to Cervical Cancer Screening.' Iberian Conference on Pattern Recognition and Image Analysis. Springer International Publishing, 2017.**\n",
    "\n",
    "Our target variable here is **Biopsy**. Biopsy is a sample of tissue taken from the body in order to examine it more closely. A doctor should recommend a biopsy when an initial test suggests an area of tissue in the body isn't normal. Doctors may call an area of abnormal tissue a lesion, a tumor, or a mass.\n",
    "Here this categorical variable contains the *Biopsy Test Result*.\n",
    "\n",
    "More information about how the data is cleaned and used maybe found in the `data-cleaning.ipynb` and `train.py` files."
   ]
  },
  {
   "cell_type": "code",
   "execution_count": 3,
   "metadata": {
    "collapsed": true,
    "gather": {
     "logged": 1611391937889
    },
    "jupyter": {
     "outputs_hidden": false,
     "source_hidden": false
    },
    "nteract": {
     "transient": {
      "deleting": false
     }
    }
   },
   "outputs": [],
   "source": [
    "ds = TabularDatasetFactory.from_delimited_files(path=\"https://archive.ics.uci.edu/ml/machine-learning-databases/00383/risk_factors_cervical_cancer.csv\")"
   ]
  },
  {
   "cell_type": "markdown",
   "metadata": {
    "nteract": {
     "transient": {
      "deleting": false
     }
    }
   },
   "source": [
    "Here, we clean and observe our data."
   ]
  },
  {
   "cell_type": "code",
   "execution_count": 4,
   "metadata": {
    "gather": {
     "logged": 1611391939600
    },
    "jupyter": {
     "outputs_hidden": false,
     "source_hidden": false
    },
    "nteract": {
     "transient": {
      "deleting": false
     }
    }
   },
   "outputs": [
    {
     "data": {
      "text/html": [
       "<div>\n",
       "<style scoped>\n",
       "    .dataframe tbody tr th:only-of-type {\n",
       "        vertical-align: middle;\n",
       "    }\n",
       "\n",
       "    .dataframe tbody tr th {\n",
       "        vertical-align: top;\n",
       "    }\n",
       "\n",
       "    .dataframe thead th {\n",
       "        text-align: right;\n",
       "    }\n",
       "</style>\n",
       "<table border=\"1\" class=\"dataframe\">\n",
       "  <thead>\n",
       "    <tr style=\"text-align: right;\">\n",
       "      <th></th>\n",
       "      <th>Age</th>\n",
       "      <th>Number of sexual partners</th>\n",
       "      <th>First sexual intercourse</th>\n",
       "      <th>Num of pregnancies</th>\n",
       "      <th>Smokes</th>\n",
       "      <th>Smokes (years)</th>\n",
       "      <th>Smokes (packs/year)</th>\n",
       "      <th>Hormonal Contraceptives</th>\n",
       "      <th>Hormonal Contraceptives (years)</th>\n",
       "      <th>IUD</th>\n",
       "      <th>...</th>\n",
       "      <th>STDs:molluscum contagiosum</th>\n",
       "      <th>STDs:HIV</th>\n",
       "      <th>STDs:Hepatitis B</th>\n",
       "      <th>STDs:HPV</th>\n",
       "      <th>STDs: Number of diagnosis</th>\n",
       "      <th>Dx:Cancer</th>\n",
       "      <th>Dx:CIN</th>\n",
       "      <th>Dx:HPV</th>\n",
       "      <th>Dx</th>\n",
       "      <th>Biopsy</th>\n",
       "    </tr>\n",
       "  </thead>\n",
       "  <tbody>\n",
       "    <tr>\n",
       "      <th>0</th>\n",
       "      <td>18.0</td>\n",
       "      <td>4.0</td>\n",
       "      <td>15.000000</td>\n",
       "      <td>1.0</td>\n",
       "      <td>0.0</td>\n",
       "      <td>0.0</td>\n",
       "      <td>0.0</td>\n",
       "      <td>0.0</td>\n",
       "      <td>0.0</td>\n",
       "      <td>0.0</td>\n",
       "      <td>...</td>\n",
       "      <td>0.0</td>\n",
       "      <td>0.0</td>\n",
       "      <td>0.0</td>\n",
       "      <td>0.0</td>\n",
       "      <td>0.0</td>\n",
       "      <td>0.0</td>\n",
       "      <td>0.0</td>\n",
       "      <td>0.0</td>\n",
       "      <td>0.0</td>\n",
       "      <td>0.0</td>\n",
       "    </tr>\n",
       "    <tr>\n",
       "      <th>1</th>\n",
       "      <td>15.0</td>\n",
       "      <td>1.0</td>\n",
       "      <td>14.000000</td>\n",
       "      <td>1.0</td>\n",
       "      <td>0.0</td>\n",
       "      <td>0.0</td>\n",
       "      <td>0.0</td>\n",
       "      <td>0.0</td>\n",
       "      <td>0.0</td>\n",
       "      <td>0.0</td>\n",
       "      <td>...</td>\n",
       "      <td>0.0</td>\n",
       "      <td>0.0</td>\n",
       "      <td>0.0</td>\n",
       "      <td>0.0</td>\n",
       "      <td>0.0</td>\n",
       "      <td>0.0</td>\n",
       "      <td>0.0</td>\n",
       "      <td>0.0</td>\n",
       "      <td>0.0</td>\n",
       "      <td>0.0</td>\n",
       "    </tr>\n",
       "    <tr>\n",
       "      <th>2</th>\n",
       "      <td>34.0</td>\n",
       "      <td>1.0</td>\n",
       "      <td>17.089779</td>\n",
       "      <td>1.0</td>\n",
       "      <td>0.0</td>\n",
       "      <td>0.0</td>\n",
       "      <td>0.0</td>\n",
       "      <td>0.0</td>\n",
       "      <td>0.0</td>\n",
       "      <td>0.0</td>\n",
       "      <td>...</td>\n",
       "      <td>0.0</td>\n",
       "      <td>0.0</td>\n",
       "      <td>0.0</td>\n",
       "      <td>0.0</td>\n",
       "      <td>0.0</td>\n",
       "      <td>0.0</td>\n",
       "      <td>0.0</td>\n",
       "      <td>0.0</td>\n",
       "      <td>0.0</td>\n",
       "      <td>0.0</td>\n",
       "    </tr>\n",
       "    <tr>\n",
       "      <th>3</th>\n",
       "      <td>52.0</td>\n",
       "      <td>5.0</td>\n",
       "      <td>16.000000</td>\n",
       "      <td>4.0</td>\n",
       "      <td>1.0</td>\n",
       "      <td>37.0</td>\n",
       "      <td>37.0</td>\n",
       "      <td>1.0</td>\n",
       "      <td>3.0</td>\n",
       "      <td>0.0</td>\n",
       "      <td>...</td>\n",
       "      <td>0.0</td>\n",
       "      <td>0.0</td>\n",
       "      <td>0.0</td>\n",
       "      <td>0.0</td>\n",
       "      <td>0.0</td>\n",
       "      <td>1.0</td>\n",
       "      <td>0.0</td>\n",
       "      <td>1.0</td>\n",
       "      <td>0.0</td>\n",
       "      <td>0.0</td>\n",
       "    </tr>\n",
       "    <tr>\n",
       "      <th>4</th>\n",
       "      <td>46.0</td>\n",
       "      <td>3.0</td>\n",
       "      <td>21.000000</td>\n",
       "      <td>4.0</td>\n",
       "      <td>0.0</td>\n",
       "      <td>0.0</td>\n",
       "      <td>0.0</td>\n",
       "      <td>1.0</td>\n",
       "      <td>15.0</td>\n",
       "      <td>0.0</td>\n",
       "      <td>...</td>\n",
       "      <td>0.0</td>\n",
       "      <td>0.0</td>\n",
       "      <td>0.0</td>\n",
       "      <td>0.0</td>\n",
       "      <td>0.0</td>\n",
       "      <td>0.0</td>\n",
       "      <td>0.0</td>\n",
       "      <td>0.0</td>\n",
       "      <td>0.0</td>\n",
       "      <td>0.0</td>\n",
       "    </tr>\n",
       "  </tbody>\n",
       "</table>\n",
       "<p>5 rows × 29 columns</p>\n",
       "</div>"
      ],
      "text/plain": [
       "    Age  Number of sexual partners  First sexual intercourse  \\\n",
       "0  18.0                        4.0                 15.000000   \n",
       "1  15.0                        1.0                 14.000000   \n",
       "2  34.0                        1.0                 17.089779   \n",
       "3  52.0                        5.0                 16.000000   \n",
       "4  46.0                        3.0                 21.000000   \n",
       "\n",
       "   Num of pregnancies  Smokes  Smokes (years)  Smokes (packs/year)  \\\n",
       "0                 1.0     0.0             0.0                  0.0   \n",
       "1                 1.0     0.0             0.0                  0.0   \n",
       "2                 1.0     0.0             0.0                  0.0   \n",
       "3                 4.0     1.0            37.0                 37.0   \n",
       "4                 4.0     0.0             0.0                  0.0   \n",
       "\n",
       "   Hormonal Contraceptives  Hormonal Contraceptives (years)  IUD  ...  \\\n",
       "0                      0.0                              0.0  0.0  ...   \n",
       "1                      0.0                              0.0  0.0  ...   \n",
       "2                      0.0                              0.0  0.0  ...   \n",
       "3                      1.0                              3.0  0.0  ...   \n",
       "4                      1.0                             15.0  0.0  ...   \n",
       "\n",
       "   STDs:molluscum contagiosum  STDs:HIV  STDs:Hepatitis B  STDs:HPV  \\\n",
       "0                         0.0       0.0               0.0       0.0   \n",
       "1                         0.0       0.0               0.0       0.0   \n",
       "2                         0.0       0.0               0.0       0.0   \n",
       "3                         0.0       0.0               0.0       0.0   \n",
       "4                         0.0       0.0               0.0       0.0   \n",
       "\n",
       "   STDs: Number of diagnosis  Dx:Cancer  Dx:CIN  Dx:HPV   Dx  Biopsy  \n",
       "0                        0.0        0.0     0.0     0.0  0.0     0.0  \n",
       "1                        0.0        0.0     0.0     0.0  0.0     0.0  \n",
       "2                        0.0        0.0     0.0     0.0  0.0     0.0  \n",
       "3                        0.0        1.0     0.0     1.0  0.0     0.0  \n",
       "4                        0.0        0.0     0.0     0.0  0.0     0.0  \n",
       "\n",
       "[5 rows x 29 columns]"
      ]
     },
     "execution_count": 4,
     "metadata": {},
     "output_type": "execute_result"
    }
   ],
   "source": [
    "x, y = clean_data(ds)\n",
    "\n",
    "df = pd.concat([x, pd.DataFrame(y)], axis = 1)\n",
    "df.head()"
   ]
  },
  {
   "cell_type": "markdown",
   "metadata": {
    "nteract": {
     "transient": {
      "deleting": false
     }
    }
   },
   "source": [
    "Now we split our data in order to fe"
   ]
  },
  {
   "cell_type": "code",
   "execution_count": 5,
   "metadata": {
    "collapsed": true,
    "gather": {
     "logged": 1611391941739
    },
    "jupyter": {
     "outputs_hidden": false,
     "source_hidden": false
    },
    "nteract": {
     "transient": {
      "deleting": false
     }
    }
   },
   "outputs": [],
   "source": [
    "outname2='training_dataset.csv'\n",
    "outdir2='training/'\n",
    "if not os.path.exists(outdir2):\n",
    "    os.mkdir(outdir2)\n",
    "\n",
    "df_train, df_test = train_test_split(df, test_size=0.25)\n",
    "\n",
    "fullpath2=os.path.join(outdir2,outname2)\n",
    "df_test.to_csv(fullpath2)\n",
    "\n",
    "outname='validation_dataset.csv'\n",
    "outdir='validation/'\n",
    "if not os.path.exists(outdir):\n",
    "    os.mkdir(outdir)\n",
    "\n",
    "fullpath=os.path.join(outdir,outname)\n",
    "df_test.to_csv(fullpath)"
   ]
  },
  {
   "cell_type": "markdown",
   "metadata": {
    "nteract": {
     "transient": {
      "deleting": false
     }
    }
   },
   "source": [
    "Now we store our dataset in our default datastore in order to access it."
   ]
  },
  {
   "cell_type": "code",
   "execution_count": 6,
   "metadata": {
    "collapsed": true,
    "gather": {
     "logged": 1611391944245
    },
    "jupyter": {
     "outputs_hidden": false,
     "source_hidden": false
    },
    "nteract": {
     "transient": {
      "deleting": false
     }
    }
   },
   "outputs": [],
   "source": [
    "datastore = ws.get_default_datastore()"
   ]
  },
  {
   "cell_type": "code",
   "execution_count": 7,
   "metadata": {
    "gather": {
     "logged": 1611391946268
    },
    "jupyter": {
     "outputs_hidden": false,
     "source_hidden": false
    },
    "nteract": {
     "transient": {
      "deleting": false
     }
    }
   },
   "outputs": [
    {
     "name": "stdout",
     "output_type": "stream",
     "text": [
      "Uploading an estimated of 1 files\n",
      "Target already exists. Skipping upload for data/training_dataset.csv\n",
      "Uploaded 0 files\n",
      "Uploading an estimated of 1 files\n",
      "Target already exists. Skipping upload for data/validation_dataset.csv\n",
      "Uploaded 0 files\n"
     ]
    },
    {
     "data": {
      "text/plain": [
       "$AZUREML_DATAREFERENCE_6751b472735b449283d380ca309447b0"
      ]
     },
     "execution_count": 7,
     "metadata": {},
     "output_type": "execute_result"
    }
   ],
   "source": [
    "datastore.upload(src_dir = \"training/\", target_path = \"data/\")\n",
    "datastore.upload(src_dir = \"validation/\", target_path = \"data/\")"
   ]
  },
  {
   "cell_type": "code",
   "execution_count": 8,
   "metadata": {
    "collapsed": true,
    "gather": {
     "logged": 1611391949480
    },
    "jupyter": {
     "outputs_hidden": false,
     "source_hidden": false
    },
    "nteract": {
     "transient": {
      "deleting": false
     }
    }
   },
   "outputs": [],
   "source": [
    "training_data = TabularDatasetFactory.from_delimited_files(path = [(datastore, (\"data/training_dataset.csv\"))])\n",
    "validation_data = TabularDatasetFactory.from_delimited_files(path = [(datastore, (\"data/validation_dataset.csv\"))])"
   ]
  },
  {
   "cell_type": "markdown",
   "metadata": {},
   "source": [
    "## AutoML Configuration\n",
    "\n",
    "We start by setting up our compute cluster, where we will run our automl run."
   ]
  },
  {
   "cell_type": "code",
   "execution_count": 9,
   "metadata": {
    "collapsed": true,
    "gather": {
     "logged": 1611391951643
    },
    "jupyter": {
     "outputs_hidden": false,
     "source_hidden": false
    },
    "nteract": {
     "transient": {
      "deleting": false
     }
    }
   },
   "outputs": [
    {
     "name": "stdout",
     "output_type": "stream",
     "text": [
      "Found existing cluster, use it.\n",
      "Succeeded\n",
      "AmlCompute wait for completion finished\n",
      "\n",
      "Minimum number of nodes requested have been provisioned\n"
     ]
    }
   ],
   "source": [
    "cpu_cluster_name = \"cpucluster-aml\"\n",
    "\n",
    "try:\n",
    "    cpu_cluster = ComputeTarget(workspace=ws, name=cpu_cluster_name)\n",
    "    print('Found existing cluster, use it.')\n",
    "except ComputeTargetException:\n",
    "    compute_config = AmlCompute.provisioning_configuration(vm_size='STANDARD_D2_V2',\n",
    "                                                           max_nodes=4)\n",
    "    cpu_cluster = ComputeTarget.create(ws, cpu_cluster_name, compute_config)\n",
    "\n",
    "cpu_cluster.wait_for_completion(show_output=True)"
   ]
  },
  {
   "cell_type": "markdown",
   "metadata": {
    "nteract": {
     "transient": {
      "deleting": false
     }
    }
   },
   "source": [
    "We've used the following configuration for our run:\n",
    "\n",
    "|Setting |Reasons|\n",
    "|-|-|\n",
    "|**experiment_timeout_minutes**| Maximum amount of time in minutes that all iterations combined can take before the experiment terminates. I've taken this to be 30 mins due to the presence of 730 rows. |\n",
    "|**max_concurrent_iterations**|These are the iterations occuring simultaneously and has to be equal to the number of nodes in the cluster(5-1))|\n",
    "|**n_cross_validations**|Using 5 cross validations to avoi8d overfitting) |\n",
    "|**primary_metric**|Since the data isn't quite balanced, Weighted Average Precision Score |\n",
    "|**task**|Classification |\n",
    "|**compute_target**|This is the compute cluster we will be using |\n",
    "|**training_data**|This is the training dataset stored in the default datastore  |\n",
    "|**label_column_name**|This is the target variable|\n"
   ]
  },
  {
   "cell_type": "code",
   "execution_count": 10,
   "metadata": {
    "gather": {
     "logged": 1611391956371
    },
    "jupyter": {
     "outputs_hidden": false,
     "source_hidden": false
    },
    "nteract": {
     "transient": {
      "deleting": false
     }
    }
   },
   "outputs": [],
   "source": [
    "# TODO: Put your automl settings here\n",
    "automl_settings = {\n",
    "    \"experiment_timeout_minutes\" :30,\n",
    "    \"max_concurrent_iterations\": 4,\n",
    "    \"n_cross_validations\": 5,\n",
    "    \"primary_metric\": 'average_precision_score_weighted',\n",
    "}\n",
    "\n",
    "# TODO: Put your automl config here\n",
    "automl_config = AutoMLConfig(\n",
    "    experiment_timeout_minutes=30,\n",
    "    n_cross_validations=5,\n",
    "    task=\"classification\",\n",
    "    primary_metric=\"average_precision_score_weighted\",\n",
    "    compute_target=cpu_cluster,\n",
    "    training_data=training_data,\n",
    "    label_column_name=\"Biopsy\",\n",
    "    max_cores_per_iteration=-1,\n",
    "    enable_onnx_compatible_models=True\n",
    "    )"
   ]
  },
  {
   "cell_type": "markdown",
   "metadata": {
    "nteract": {
     "transient": {
      "deleting": false
     }
    }
   },
   "source": [
    "Submitting the run"
   ]
  },
  {
   "cell_type": "code",
   "execution_count": 11,
   "metadata": {
    "gather": {
     "logged": 1611394353843
    },
    "jupyter": {
     "outputs_hidden": false,
     "source_hidden": false
    },
    "nteract": {
     "transient": {
      "deleting": false
     }
    }
   },
   "outputs": [
    {
     "name": "stdout",
     "output_type": "stream",
     "text": [
      "Running on remote.\n",
      "No run_configuration provided, running on cpucluster-aml with default configuration\n",
      "Running on remote compute: cpucluster-aml\n",
      "Parent Run ID: AutoML_036c5960-9124-4360-b32c-e1c6a0dca31a\n",
      "\n",
      "Current status: FeaturesGeneration. Generating features for the dataset.\n",
      "Current status: DatasetCrossValidationSplit. Generating individually featurized CV splits.\n",
      "Current status: ModelSelection. Beginning model selection.\n",
      "\n",
      "****************************************************************************************************\n",
      "DATA GUARDRAILS: \n",
      "\n",
      "TYPE:         Class balancing detection\n",
      "STATUS:       ALERTED\n",
      "DESCRIPTION:  To decrease model bias, please cancel the current run and fix balancing problem.\n",
      "              Learn more about imbalanced data: https://aka.ms/AutomatedMLImbalancedData\n",
      "DETAILS:      Imbalanced data can lead to a falsely perceived positive effect of a model's accuracy because the input data has bias towards one class.\n",
      "+---------------------------------+---------------------------------+--------------------------------------+\n",
      "|Size of the smallest class       |Name/Label of the smallest class |Number of samples in the training data|\n",
      "+=================================+=================================+======================================+\n",
      "|12                               |1.0                              |183                                   |\n",
      "+---------------------------------+---------------------------------+--------------------------------------+\n",
      "\n",
      "****************************************************************************************************\n",
      "\n",
      "TYPE:         Missing feature values imputation\n",
      "STATUS:       PASSED\n",
      "DESCRIPTION:  No feature missing values were detected in the training data.\n",
      "              Learn more about missing value imputation: https://aka.ms/AutomatedMLFeaturization\n",
      "\n",
      "****************************************************************************************************\n",
      "\n",
      "TYPE:         High cardinality feature detection\n",
      "STATUS:       PASSED\n",
      "DESCRIPTION:  Your inputs were analyzed, and no high cardinality features were detected.\n",
      "              Learn more about high cardinality feature handling: https://aka.ms/AutomatedMLFeaturization\n",
      "\n",
      "****************************************************************************************************\n",
      "\n",
      "****************************************************************************************************\n",
      "ITERATION: The iteration being evaluated.\n",
      "PIPELINE: A summary description of the pipeline being evaluated.\n",
      "DURATION: Time taken for the current iteration.\n",
      "METRIC: The result of computing score on the fitted pipeline.\n",
      "BEST: The best observed score thus far.\n",
      "****************************************************************************************************\n",
      "\n",
      " ITERATION   PIPELINE                                       DURATION      METRIC      BEST\n",
      "         0   MaxAbsScaler LightGBM                          0:00:49       0.9006    0.9006\n",
      "         1   MaxAbsScaler XGBoostClassifier                 0:00:45       0.8860    0.9006\n",
      "         2   RobustScaler ExtremeRandomTrees                0:01:09       0.8764    0.9006\n",
      "         3   RobustScaler ExtremeRandomTrees                0:00:50       0.8909    0.9006\n",
      "         4   MinMaxScaler ExtremeRandomTrees                0:00:48       0.8899    0.9006\n",
      "         5   StandardScalerWrapper RandomForest             0:00:52       0.8871    0.9006\n",
      "         6   MinMaxScaler ExtremeRandomTrees                0:00:58       0.8945    0.9006\n",
      "         7   StandardScalerWrapper KNN                      0:00:47       0.8590    0.9006\n",
      "         8   MinMaxScaler ExtremeRandomTrees                0:00:45       0.8763    0.9006\n",
      "         9   RobustScaler RandomForest                      0:00:48       0.8723    0.9006\n",
      "        10   StandardScalerWrapper RandomForest             0:00:45       0.8726    0.9006\n",
      "        11   StandardScalerWrapper ExtremeRandomTrees       0:00:50       0.8807    0.9006\n",
      "        12   RobustScaler ExtremeRandomTrees                0:00:53       0.8566    0.9006\n",
      "        13   MinMaxScaler ExtremeRandomTrees                0:00:43       0.8831    0.9006\n",
      "        14   MinMaxScaler RandomForest                      0:00:52       0.9004    0.9006\n",
      "        15   StandardScalerWrapper XGBoostClassifier        0:00:52       0.8960    0.9006\n",
      "        16   MaxAbsScaler ExtremeRandomTrees                0:00:51       0.8663    0.9006\n",
      "        17   MaxAbsScaler RandomForest                      0:00:47       0.8913    0.9006\n",
      "        18   MinMaxScaler RandomForest                      0:00:53       0.8732    0.9006\n",
      "        19   MaxAbsScaler ExtremeRandomTrees                0:00:46       0.8734    0.9006\n",
      "        20   MinMaxScaler ExtremeRandomTrees                0:00:47       0.8844    0.9006\n",
      "        21   RobustScaler LightGBM                          0:00:50       0.8786    0.9006\n",
      "        22   StandardScalerWrapper LogisticRegression       0:00:45       0.8534    0.9006\n",
      "        23   StandardScalerWrapper ExtremeRandomTrees       0:01:02       0.8736    0.9006\n",
      "        24   MinMaxScaler LightGBM                          0:00:47       0.8786    0.9006\n",
      "        25   SparseNormalizer LightGBM                      0:00:52       0.8775    0.9006\n",
      "        26   StandardScalerWrapper XGBoostClassifier        0:00:42       0.8927    0.9006\n",
      "        27   StandardScalerWrapper XGBoostClassifier        0:00:49       0.8912    0.9006\n",
      "        28    VotingEnsemble                                0:01:23       0.9061    0.9061\n"
     ]
    }
   ],
   "source": [
    "remote_run = experiment.submit(config = automl_config, show_output = True)"
   ]
  },
  {
   "cell_type": "markdown",
   "metadata": {},
   "source": [
    "## Run Details\n",
    "The `Rundetails` widget, as the name suggests gives us greater insight about how the Run is proceeding, enabling us to monitor and understand the situation, thereby dealing with it accordingly."
   ]
  },
  {
   "cell_type": "code",
   "execution_count": 12,
   "metadata": {
    "gather": {
     "logged": 1611394879331
    },
    "jupyter": {
     "outputs_hidden": false,
     "source_hidden": false
    },
    "nteract": {
     "transient": {
      "deleting": false
     }
    }
   },
   "outputs": [
    {
     "data": {
      "application/vnd.jupyter.widget-view+json": {
       "model_id": "034af20044a14ed1933c258703a5895b",
       "version_major": 2,
       "version_minor": 0
      },
      "text/plain": [
       "_AutoMLWidget(widget_settings={'childWidgetDisplay': 'popup', 'send_telemetry': False, 'log_level': 'INFO', 's…"
      ]
     },
     "metadata": {},
     "output_type": "display_data"
    },
    {
     "data": {
      "application/aml.mini.widget.v1": "{\"status\": \"Completed\", \"workbench_run_details_uri\": \"https://ml.azure.com/experiments/cc_automl/runs/AutoML_036c5960-9124-4360-b32c-e1c6a0dca31a?wsid=/subscriptions/510b94ba-e453-4417-988b-fbdc37b55ca7/resourcegroups/aml-quickstarts-135758/workspaces/quick-starts-ws-135758\", \"run_id\": \"AutoML_036c5960-9124-4360-b32c-e1c6a0dca31a\", \"run_properties\": {\"run_id\": \"AutoML_036c5960-9124-4360-b32c-e1c6a0dca31a\", \"created_utc\": \"2021-01-23T08:52:40.361647Z\", \"properties\": {\"num_iterations\": \"1000\", \"training_type\": \"TrainFull\", \"acquisition_function\": \"EI\", \"primary_metric\": \"average_precision_score_weighted\", \"train_split\": \"0\", \"acquisition_parameter\": \"0\", \"num_cross_validation\": \"5\", \"target\": \"cpucluster-aml\", \"AMLSettingsJsonString\": \"{\\\"path\\\":null,\\\"name\\\":\\\"cc_automl\\\",\\\"subscription_id\\\":\\\"510b94ba-e453-4417-988b-fbdc37b55ca7\\\",\\\"resource_group\\\":\\\"aml-quickstarts-135758\\\",\\\"workspace_name\\\":\\\"quick-starts-ws-135758\\\",\\\"region\\\":\\\"southcentralus\\\",\\\"compute_target\\\":\\\"cpucluster-aml\\\",\\\"spark_service\\\":null,\\\"azure_service\\\":\\\"remote\\\",\\\"many_models\\\":false,\\\"pipeline_fetch_max_batch_size\\\":1,\\\"iterations\\\":1000,\\\"primary_metric\\\":\\\"average_precision_score_weighted\\\",\\\"task_type\\\":\\\"classification\\\",\\\"data_script\\\":null,\\\"validation_size\\\":0.0,\\\"n_cross_validations\\\":5,\\\"y_min\\\":null,\\\"y_max\\\":null,\\\"num_classes\\\":null,\\\"featurization\\\":\\\"auto\\\",\\\"_ignore_package_version_incompatibilities\\\":false,\\\"is_timeseries\\\":false,\\\"max_cores_per_iteration\\\":-1,\\\"max_concurrent_iterations\\\":1,\\\"iteration_timeout_minutes\\\":null,\\\"mem_in_mb\\\":null,\\\"enforce_time_on_windows\\\":false,\\\"experiment_timeout_minutes\\\":30,\\\"experiment_exit_score\\\":null,\\\"whitelist_models\\\":null,\\\"blacklist_algos\\\":[\\\"TensorFlowLinearClassifier\\\",\\\"TensorFlowDNN\\\"],\\\"supported_models\\\":[\\\"SGD\\\",\\\"SVM\\\",\\\"LightGBM\\\",\\\"TensorFlowDNN\\\",\\\"ExtremeRandomTrees\\\",\\\"TensorFlowLinearClassifier\\\",\\\"XGBoostClassifier\\\",\\\"LinearSVM\\\",\\\"AveragedPerceptronClassifier\\\",\\\"GradientBoosting\\\",\\\"MultinomialNaiveBayes\\\",\\\"RandomForest\\\",\\\"LogisticRegression\\\",\\\"KNN\\\",\\\"DecisionTree\\\",\\\"BernoulliNaiveBayes\\\"],\\\"auto_blacklist\\\":true,\\\"blacklist_samples_reached\\\":false,\\\"exclude_nan_labels\\\":true,\\\"verbosity\\\":20,\\\"_debug_log\\\":\\\"azureml_automl.log\\\",\\\"show_warnings\\\":false,\\\"model_explainability\\\":true,\\\"service_url\\\":null,\\\"sdk_url\\\":null,\\\"sdk_packages\\\":null,\\\"enable_onnx_compatible_models\\\":true,\\\"enable_split_onnx_featurizer_estimator_models\\\":false,\\\"vm_type\\\":\\\"STANDARD_D2_V2\\\",\\\"telemetry_verbosity\\\":20,\\\"send_telemetry\\\":true,\\\"enable_dnn\\\":false,\\\"scenario\\\":\\\"SDK-1.13.0\\\",\\\"environment_label\\\":null,\\\"force_text_dnn\\\":false,\\\"enable_feature_sweeping\\\":false,\\\"enable_early_stopping\\\":false,\\\"early_stopping_n_iters\\\":10,\\\"metrics\\\":null,\\\"enable_ensembling\\\":true,\\\"enable_stack_ensembling\\\":false,\\\"ensemble_iterations\\\":15,\\\"enable_tf\\\":false,\\\"enable_subsampling\\\":null,\\\"subsample_seed\\\":null,\\\"enable_nimbusml\\\":false,\\\"enable_streaming\\\":false,\\\"force_streaming\\\":false,\\\"track_child_runs\\\":true,\\\"allowed_private_models\\\":[],\\\"label_column_name\\\":\\\"Biopsy\\\",\\\"weight_column_name\\\":null,\\\"cv_split_column_names\\\":null,\\\"enable_local_managed\\\":false,\\\"_local_managed_run_id\\\":null,\\\"cost_mode\\\":1,\\\"lag_length\\\":0,\\\"metric_operation\\\":\\\"maximize\\\",\\\"preprocess\\\":true}\", \"DataPrepJsonString\": \"{\\\\\\\"training_data\\\\\\\": \\\\\\\"{\\\\\\\\\\\\\\\"blocks\\\\\\\\\\\\\\\": [{\\\\\\\\\\\\\\\"id\\\\\\\\\\\\\\\": \\\\\\\\\\\\\\\"8478e89a-d871-47dc-a678-a6aa8702b8d8\\\\\\\\\\\\\\\", \\\\\\\\\\\\\\\"type\\\\\\\\\\\\\\\": \\\\\\\\\\\\\\\"Microsoft.DPrep.GetDatastoreFilesBlock\\\\\\\\\\\\\\\", \\\\\\\\\\\\\\\"arguments\\\\\\\\\\\\\\\": {\\\\\\\\\\\\\\\"datastores\\\\\\\\\\\\\\\": [{\\\\\\\\\\\\\\\"datastoreName\\\\\\\\\\\\\\\": \\\\\\\\\\\\\\\"workspaceblobstore\\\\\\\\\\\\\\\", \\\\\\\\\\\\\\\"path\\\\\\\\\\\\\\\": \\\\\\\\\\\\\\\"data/training_dataset.csv\\\\\\\\\\\\\\\", \\\\\\\\\\\\\\\"resourceGroup\\\\\\\\\\\\\\\": \\\\\\\\\\\\\\\"aml-quickstarts-135758\\\\\\\\\\\\\\\", \\\\\\\\\\\\\\\"subscription\\\\\\\\\\\\\\\": \\\\\\\\\\\\\\\"510b94ba-e453-4417-988b-fbdc37b55ca7\\\\\\\\\\\\\\\", \\\\\\\\\\\\\\\"workspaceName\\\\\\\\\\\\\\\": \\\\\\\\\\\\\\\"quick-starts-ws-135758\\\\\\\\\\\\\\\"}]}, \\\\\\\\\\\\\\\"localData\\\\\\\\\\\\\\\": {}, \\\\\\\\\\\\\\\"isEnabled\\\\\\\\\\\\\\\": true, \\\\\\\\\\\\\\\"name\\\\\\\\\\\\\\\": null, \\\\\\\\\\\\\\\"annotation\\\\\\\\\\\\\\\": null}, {\\\\\\\\\\\\\\\"id\\\\\\\\\\\\\\\": \\\\\\\\\\\\\\\"253178a5-0ab2-4b5e-a569-8576c39e912f\\\\\\\\\\\\\\\", \\\\\\\\\\\\\\\"type\\\\\\\\\\\\\\\": \\\\\\\\\\\\\\\"Microsoft.DPrep.ParseDelimitedBlock\\\\\\\\\\\\\\\", \\\\\\\\\\\\\\\"arguments\\\\\\\\\\\\\\\": {\\\\\\\\\\\\\\\"columnHeadersMode\\\\\\\\\\\\\\\": 3, \\\\\\\\\\\\\\\"fileEncoding\\\\\\\\\\\\\\\": 0, \\\\\\\\\\\\\\\"handleQuotedLineBreaks\\\\\\\\\\\\\\\": false, \\\\\\\\\\\\\\\"preview\\\\\\\\\\\\\\\": false, \\\\\\\\\\\\\\\"separator\\\\\\\\\\\\\\\": \\\\\\\\\\\\\\\",\\\\\\\\\\\\\\\", \\\\\\\\\\\\\\\"skipRows\\\\\\\\\\\\\\\": 0, \\\\\\\\\\\\\\\"skipRowsMode\\\\\\\\\\\\\\\": 0}, \\\\\\\\\\\\\\\"localData\\\\\\\\\\\\\\\": {}, \\\\\\\\\\\\\\\"isEnabled\\\\\\\\\\\\\\\": true, \\\\\\\\\\\\\\\"name\\\\\\\\\\\\\\\": null, \\\\\\\\\\\\\\\"annotation\\\\\\\\\\\\\\\": null}, {\\\\\\\\\\\\\\\"id\\\\\\\\\\\\\\\": \\\\\\\\\\\\\\\"c737ead0-284c-4e43-90b8-e7657dd6de7d\\\\\\\\\\\\\\\", \\\\\\\\\\\\\\\"type\\\\\\\\\\\\\\\": \\\\\\\\\\\\\\\"Microsoft.DPrep.DropColumnsBlock\\\\\\\\\\\\\\\", \\\\\\\\\\\\\\\"arguments\\\\\\\\\\\\\\\": {\\\\\\\\\\\\\\\"columns\\\\\\\\\\\\\\\": {\\\\\\\\\\\\\\\"type\\\\\\\\\\\\\\\": 0, \\\\\\\\\\\\\\\"details\\\\\\\\\\\\\\\": {\\\\\\\\\\\\\\\"selectedColumns\\\\\\\\\\\\\\\": [\\\\\\\\\\\\\\\"Path\\\\\\\\\\\\\\\"]}}}, \\\\\\\\\\\\\\\"localData\\\\\\\\\\\\\\\": {}, \\\\\\\\\\\\\\\"isEnabled\\\\\\\\\\\\\\\": true, \\\\\\\\\\\\\\\"name\\\\\\\\\\\\\\\": null, \\\\\\\\\\\\\\\"annotation\\\\\\\\\\\\\\\": null}, {\\\\\\\\\\\\\\\"id\\\\\\\\\\\\\\\": \\\\\\\\\\\\\\\"1719b561-76df-4b58-adfd-51042388bec9\\\\\\\\\\\\\\\", \\\\\\\\\\\\\\\"type\\\\\\\\\\\\\\\": \\\\\\\\\\\\\\\"Microsoft.DPrep.SetColumnTypesBlock\\\\\\\\\\\\\\\", \\\\\\\\\\\\\\\"arguments\\\\\\\\\\\\\\\": {\\\\\\\\\\\\\\\"columnConversion\\\\\\\\\\\\\\\": [{\\\\\\\\\\\\\\\"column\\\\\\\\\\\\\\\": {\\\\\\\\\\\\\\\"type\\\\\\\\\\\\\\\": 2, \\\\\\\\\\\\\\\"details\\\\\\\\\\\\\\\": {\\\\\\\\\\\\\\\"selectedColumn\\\\\\\\\\\\\\\": \\\\\\\\\\\\\\\"Column1\\\\\\\\\\\\\\\"}}, \\\\\\\\\\\\\\\"typeProperty\\\\\\\\\\\\\\\": 2}, {\\\\\\\\\\\\\\\"column\\\\\\\\\\\\\\\": {\\\\\\\\\\\\\\\"type\\\\\\\\\\\\\\\": 2, \\\\\\\\\\\\\\\"details\\\\\\\\\\\\\\\": {\\\\\\\\\\\\\\\"selectedColumn\\\\\\\\\\\\\\\": \\\\\\\\\\\\\\\"Age\\\\\\\\\\\\\\\"}}, \\\\\\\\\\\\\\\"typeProperty\\\\\\\\\\\\\\\": 3}, {\\\\\\\\\\\\\\\"column\\\\\\\\\\\\\\\": {\\\\\\\\\\\\\\\"type\\\\\\\\\\\\\\\": 2, \\\\\\\\\\\\\\\"details\\\\\\\\\\\\\\\": {\\\\\\\\\\\\\\\"selectedColumn\\\\\\\\\\\\\\\": \\\\\\\\\\\\\\\"Number of sexual partners\\\\\\\\\\\\\\\"}}, \\\\\\\\\\\\\\\"typeProperty\\\\\\\\\\\\\\\": 3}, {\\\\\\\\\\\\\\\"column\\\\\\\\\\\\\\\": {\\\\\\\\\\\\\\\"type\\\\\\\\\\\\\\\": 2, \\\\\\\\\\\\\\\"details\\\\\\\\\\\\\\\": {\\\\\\\\\\\\\\\"selectedColumn\\\\\\\\\\\\\\\": \\\\\\\\\\\\\\\"First sexual intercourse\\\\\\\\\\\\\\\"}}, \\\\\\\\\\\\\\\"typeProperty\\\\\\\\\\\\\\\": 3}, {\\\\\\\\\\\\\\\"column\\\\\\\\\\\\\\\": {\\\\\\\\\\\\\\\"type\\\\\\\\\\\\\\\": 2, \\\\\\\\\\\\\\\"details\\\\\\\\\\\\\\\": {\\\\\\\\\\\\\\\"selectedColumn\\\\\\\\\\\\\\\": \\\\\\\\\\\\\\\"Num of pregnancies\\\\\\\\\\\\\\\"}}, \\\\\\\\\\\\\\\"typeProperty\\\\\\\\\\\\\\\": 3}, {\\\\\\\\\\\\\\\"column\\\\\\\\\\\\\\\": {\\\\\\\\\\\\\\\"type\\\\\\\\\\\\\\\": 2, \\\\\\\\\\\\\\\"details\\\\\\\\\\\\\\\": {\\\\\\\\\\\\\\\"selectedColumn\\\\\\\\\\\\\\\": \\\\\\\\\\\\\\\"Smokes\\\\\\\\\\\\\\\"}}, \\\\\\\\\\\\\\\"typeProperty\\\\\\\\\\\\\\\": 3}, {\\\\\\\\\\\\\\\"column\\\\\\\\\\\\\\\": {\\\\\\\\\\\\\\\"type\\\\\\\\\\\\\\\": 2, \\\\\\\\\\\\\\\"details\\\\\\\\\\\\\\\": {\\\\\\\\\\\\\\\"selectedColumn\\\\\\\\\\\\\\\": \\\\\\\\\\\\\\\"Smokes (years)\\\\\\\\\\\\\\\"}}, \\\\\\\\\\\\\\\"typeProperty\\\\\\\\\\\\\\\": 3}, {\\\\\\\\\\\\\\\"column\\\\\\\\\\\\\\\": {\\\\\\\\\\\\\\\"type\\\\\\\\\\\\\\\": 2, \\\\\\\\\\\\\\\"details\\\\\\\\\\\\\\\": {\\\\\\\\\\\\\\\"selectedColumn\\\\\\\\\\\\\\\": \\\\\\\\\\\\\\\"Smokes (packs/year)\\\\\\\\\\\\\\\"}}, \\\\\\\\\\\\\\\"typeProperty\\\\\\\\\\\\\\\": 3}, {\\\\\\\\\\\\\\\"column\\\\\\\\\\\\\\\": {\\\\\\\\\\\\\\\"type\\\\\\\\\\\\\\\": 2, \\\\\\\\\\\\\\\"details\\\\\\\\\\\\\\\": {\\\\\\\\\\\\\\\"selectedColumn\\\\\\\\\\\\\\\": \\\\\\\\\\\\\\\"Hormonal Contraceptives\\\\\\\\\\\\\\\"}}, \\\\\\\\\\\\\\\"typeProperty\\\\\\\\\\\\\\\": 3}, {\\\\\\\\\\\\\\\"column\\\\\\\\\\\\\\\": {\\\\\\\\\\\\\\\"type\\\\\\\\\\\\\\\": 2, \\\\\\\\\\\\\\\"details\\\\\\\\\\\\\\\": {\\\\\\\\\\\\\\\"selectedColumn\\\\\\\\\\\\\\\": \\\\\\\\\\\\\\\"Hormonal Contraceptives (years)\\\\\\\\\\\\\\\"}}, \\\\\\\\\\\\\\\"typeProperty\\\\\\\\\\\\\\\": 3}, {\\\\\\\\\\\\\\\"column\\\\\\\\\\\\\\\": {\\\\\\\\\\\\\\\"type\\\\\\\\\\\\\\\": 2, \\\\\\\\\\\\\\\"details\\\\\\\\\\\\\\\": {\\\\\\\\\\\\\\\"selectedColumn\\\\\\\\\\\\\\\": \\\\\\\\\\\\\\\"IUD\\\\\\\\\\\\\\\"}}, \\\\\\\\\\\\\\\"typeProperty\\\\\\\\\\\\\\\": 3}, {\\\\\\\\\\\\\\\"column\\\\\\\\\\\\\\\": {\\\\\\\\\\\\\\\"type\\\\\\\\\\\\\\\": 2, \\\\\\\\\\\\\\\"details\\\\\\\\\\\\\\\": {\\\\\\\\\\\\\\\"selectedColumn\\\\\\\\\\\\\\\": \\\\\\\\\\\\\\\"IUD (years)\\\\\\\\\\\\\\\"}}, \\\\\\\\\\\\\\\"typeProperty\\\\\\\\\\\\\\\": 3}, {\\\\\\\\\\\\\\\"column\\\\\\\\\\\\\\\": {\\\\\\\\\\\\\\\"type\\\\\\\\\\\\\\\": 2, \\\\\\\\\\\\\\\"details\\\\\\\\\\\\\\\": {\\\\\\\\\\\\\\\"selectedColumn\\\\\\\\\\\\\\\": \\\\\\\\\\\\\\\"STDs\\\\\\\\\\\\\\\"}}, \\\\\\\\\\\\\\\"typeProperty\\\\\\\\\\\\\\\": 3}, {\\\\\\\\\\\\\\\"column\\\\\\\\\\\\\\\": {\\\\\\\\\\\\\\\"type\\\\\\\\\\\\\\\": 2, \\\\\\\\\\\\\\\"details\\\\\\\\\\\\\\\": {\\\\\\\\\\\\\\\"selectedColumn\\\\\\\\\\\\\\\": \\\\\\\\\\\\\\\"STDs (number)\\\\\\\\\\\\\\\"}}, \\\\\\\\\\\\\\\"typeProperty\\\\\\\\\\\\\\\": 3}, {\\\\\\\\\\\\\\\"column\\\\\\\\\\\\\\\": {\\\\\\\\\\\\\\\"type\\\\\\\\\\\\\\\": 2, \\\\\\\\\\\\\\\"details\\\\\\\\\\\\\\\": {\\\\\\\\\\\\\\\"selectedColumn\\\\\\\\\\\\\\\": \\\\\\\\\\\\\\\"STDs:condylomatosis\\\\\\\\\\\\\\\"}}, \\\\\\\\\\\\\\\"typeProperty\\\\\\\\\\\\\\\": 3}, {\\\\\\\\\\\\\\\"column\\\\\\\\\\\\\\\": {\\\\\\\\\\\\\\\"type\\\\\\\\\\\\\\\": 2, \\\\\\\\\\\\\\\"details\\\\\\\\\\\\\\\": {\\\\\\\\\\\\\\\"selectedColumn\\\\\\\\\\\\\\\": \\\\\\\\\\\\\\\"STDs:vaginal condylomatosis\\\\\\\\\\\\\\\"}}, \\\\\\\\\\\\\\\"typeProperty\\\\\\\\\\\\\\\": 3}, {\\\\\\\\\\\\\\\"column\\\\\\\\\\\\\\\": {\\\\\\\\\\\\\\\"type\\\\\\\\\\\\\\\": 2, \\\\\\\\\\\\\\\"details\\\\\\\\\\\\\\\": {\\\\\\\\\\\\\\\"selectedColumn\\\\\\\\\\\\\\\": \\\\\\\\\\\\\\\"STDs:vulvo-perineal condylomatosis\\\\\\\\\\\\\\\"}}, \\\\\\\\\\\\\\\"typeProperty\\\\\\\\\\\\\\\": 3}, {\\\\\\\\\\\\\\\"column\\\\\\\\\\\\\\\": {\\\\\\\\\\\\\\\"type\\\\\\\\\\\\\\\": 2, \\\\\\\\\\\\\\\"details\\\\\\\\\\\\\\\": {\\\\\\\\\\\\\\\"selectedColumn\\\\\\\\\\\\\\\": \\\\\\\\\\\\\\\"STDs:syphilis\\\\\\\\\\\\\\\"}}, \\\\\\\\\\\\\\\"typeProperty\\\\\\\\\\\\\\\": 3}, {\\\\\\\\\\\\\\\"column\\\\\\\\\\\\\\\": {\\\\\\\\\\\\\\\"type\\\\\\\\\\\\\\\": 2, \\\\\\\\\\\\\\\"details\\\\\\\\\\\\\\\": {\\\\\\\\\\\\\\\"selectedColumn\\\\\\\\\\\\\\\": \\\\\\\\\\\\\\\"STDs:pelvic inflammatory disease\\\\\\\\\\\\\\\"}}, \\\\\\\\\\\\\\\"typeProperty\\\\\\\\\\\\\\\": 3}, {\\\\\\\\\\\\\\\"column\\\\\\\\\\\\\\\": {\\\\\\\\\\\\\\\"type\\\\\\\\\\\\\\\": 2, \\\\\\\\\\\\\\\"details\\\\\\\\\\\\\\\": {\\\\\\\\\\\\\\\"selectedColumn\\\\\\\\\\\\\\\": \\\\\\\\\\\\\\\"STDs:genital herpes\\\\\\\\\\\\\\\"}}, \\\\\\\\\\\\\\\"typeProperty\\\\\\\\\\\\\\\": 3}, {\\\\\\\\\\\\\\\"column\\\\\\\\\\\\\\\": {\\\\\\\\\\\\\\\"type\\\\\\\\\\\\\\\": 2, \\\\\\\\\\\\\\\"details\\\\\\\\\\\\\\\": {\\\\\\\\\\\\\\\"selectedColumn\\\\\\\\\\\\\\\": \\\\\\\\\\\\\\\"STDs:molluscum contagiosum\\\\\\\\\\\\\\\"}}, \\\\\\\\\\\\\\\"typeProperty\\\\\\\\\\\\\\\": 3}, {\\\\\\\\\\\\\\\"column\\\\\\\\\\\\\\\": {\\\\\\\\\\\\\\\"type\\\\\\\\\\\\\\\": 2, \\\\\\\\\\\\\\\"details\\\\\\\\\\\\\\\": {\\\\\\\\\\\\\\\"selectedColumn\\\\\\\\\\\\\\\": \\\\\\\\\\\\\\\"STDs:HIV\\\\\\\\\\\\\\\"}}, \\\\\\\\\\\\\\\"typeProperty\\\\\\\\\\\\\\\": 3}, {\\\\\\\\\\\\\\\"column\\\\\\\\\\\\\\\": {\\\\\\\\\\\\\\\"type\\\\\\\\\\\\\\\": 2, \\\\\\\\\\\\\\\"details\\\\\\\\\\\\\\\": {\\\\\\\\\\\\\\\"selectedColumn\\\\\\\\\\\\\\\": \\\\\\\\\\\\\\\"STDs:Hepatitis B\\\\\\\\\\\\\\\"}}, \\\\\\\\\\\\\\\"typeProperty\\\\\\\\\\\\\\\": 3}, {\\\\\\\\\\\\\\\"column\\\\\\\\\\\\\\\": {\\\\\\\\\\\\\\\"type\\\\\\\\\\\\\\\": 2, \\\\\\\\\\\\\\\"details\\\\\\\\\\\\\\\": {\\\\\\\\\\\\\\\"selectedColumn\\\\\\\\\\\\\\\": \\\\\\\\\\\\\\\"STDs:HPV\\\\\\\\\\\\\\\"}}, \\\\\\\\\\\\\\\"typeProperty\\\\\\\\\\\\\\\": 3}, {\\\\\\\\\\\\\\\"column\\\\\\\\\\\\\\\": {\\\\\\\\\\\\\\\"type\\\\\\\\\\\\\\\": 2, \\\\\\\\\\\\\\\"details\\\\\\\\\\\\\\\": {\\\\\\\\\\\\\\\"selectedColumn\\\\\\\\\\\\\\\": \\\\\\\\\\\\\\\"STDs: Number of diagnosis\\\\\\\\\\\\\\\"}}, \\\\\\\\\\\\\\\"typeProperty\\\\\\\\\\\\\\\": 3}, {\\\\\\\\\\\\\\\"column\\\\\\\\\\\\\\\": {\\\\\\\\\\\\\\\"type\\\\\\\\\\\\\\\": 2, \\\\\\\\\\\\\\\"details\\\\\\\\\\\\\\\": {\\\\\\\\\\\\\\\"selectedColumn\\\\\\\\\\\\\\\": \\\\\\\\\\\\\\\"Dx:Cancer\\\\\\\\\\\\\\\"}}, \\\\\\\\\\\\\\\"typeProperty\\\\\\\\\\\\\\\": 3}, {\\\\\\\\\\\\\\\"column\\\\\\\\\\\\\\\": {\\\\\\\\\\\\\\\"type\\\\\\\\\\\\\\\": 2, \\\\\\\\\\\\\\\"details\\\\\\\\\\\\\\\": {\\\\\\\\\\\\\\\"selectedColumn\\\\\\\\\\\\\\\": \\\\\\\\\\\\\\\"Dx:CIN\\\\\\\\\\\\\\\"}}, \\\\\\\\\\\\\\\"typeProperty\\\\\\\\\\\\\\\": 3}, {\\\\\\\\\\\\\\\"column\\\\\\\\\\\\\\\": {\\\\\\\\\\\\\\\"type\\\\\\\\\\\\\\\": 2, \\\\\\\\\\\\\\\"details\\\\\\\\\\\\\\\": {\\\\\\\\\\\\\\\"selectedColumn\\\\\\\\\\\\\\\": \\\\\\\\\\\\\\\"Dx:HPV\\\\\\\\\\\\\\\"}}, \\\\\\\\\\\\\\\"typeProperty\\\\\\\\\\\\\\\": 3}, {\\\\\\\\\\\\\\\"column\\\\\\\\\\\\\\\": {\\\\\\\\\\\\\\\"type\\\\\\\\\\\\\\\": 2, \\\\\\\\\\\\\\\"details\\\\\\\\\\\\\\\": {\\\\\\\\\\\\\\\"selectedColumn\\\\\\\\\\\\\\\": \\\\\\\\\\\\\\\"Dx\\\\\\\\\\\\\\\"}}, \\\\\\\\\\\\\\\"typeProperty\\\\\\\\\\\\\\\": 3}, {\\\\\\\\\\\\\\\"column\\\\\\\\\\\\\\\": {\\\\\\\\\\\\\\\"type\\\\\\\\\\\\\\\": 2, \\\\\\\\\\\\\\\"details\\\\\\\\\\\\\\\": {\\\\\\\\\\\\\\\"selectedColumn\\\\\\\\\\\\\\\": \\\\\\\\\\\\\\\"Biopsy\\\\\\\\\\\\\\\"}}, \\\\\\\\\\\\\\\"typeProperty\\\\\\\\\\\\\\\": 3}]}, \\\\\\\\\\\\\\\"localData\\\\\\\\\\\\\\\": {}, \\\\\\\\\\\\\\\"isEnabled\\\\\\\\\\\\\\\": true, \\\\\\\\\\\\\\\"name\\\\\\\\\\\\\\\": null, \\\\\\\\\\\\\\\"annotation\\\\\\\\\\\\\\\": null}], \\\\\\\\\\\\\\\"inspectors\\\\\\\\\\\\\\\": [], \\\\\\\\\\\\\\\"meta\\\\\\\\\\\\\\\": {\\\\\\\\\\\\\\\"savedDatasetId\\\\\\\\\\\\\\\": \\\\\\\\\\\\\\\"7b134fa0-c0a6-4840-9583-85d0403b2a7a\\\\\\\\\\\\\\\", \\\\\\\\\\\\\\\"datasetType\\\\\\\\\\\\\\\": \\\\\\\\\\\\\\\"tabular\\\\\\\\\\\\\\\", \\\\\\\\\\\\\\\"subscriptionId\\\\\\\\\\\\\\\": \\\\\\\\\\\\\\\"510b94ba-e453-4417-988b-fbdc37b55ca7\\\\\\\\\\\\\\\", \\\\\\\\\\\\\\\"workspaceId\\\\\\\\\\\\\\\": \\\\\\\\\\\\\\\"006f7bd0-135d-401a-a598-40608d12f014\\\\\\\\\\\\\\\", \\\\\\\\\\\\\\\"workspaceLocation\\\\\\\\\\\\\\\": \\\\\\\\\\\\\\\"southcentralus\\\\\\\\\\\\\\\"}}\\\\\\\", \\\\\\\"activities\\\\\\\": 0}\", \"EnableSubsampling\": null, \"runTemplate\": \"AutoML\", \"azureml.runsource\": \"automl\", \"display_task_type\": \"classification\", \"dependencies_versions\": \"{\\\"azureml-widgets\\\": \\\"1.19.0\\\", \\\"azureml-train\\\": \\\"1.19.0\\\", \\\"azureml-train-restclients-hyperdrive\\\": \\\"1.19.0\\\", \\\"azureml-train-core\\\": \\\"1.19.0\\\", \\\"azureml-train-automl\\\": \\\"1.19.0\\\", \\\"azureml-train-automl-runtime\\\": \\\"1.19.0\\\", \\\"azureml-train-automl-client\\\": \\\"1.19.0\\\", \\\"azureml-tensorboard\\\": \\\"1.19.0\\\", \\\"azureml-telemetry\\\": \\\"1.19.0\\\", \\\"azureml-sdk\\\": \\\"1.19.0\\\", \\\"azureml-samples\\\": \\\"0+unknown\\\", \\\"azureml-pipeline\\\": \\\"1.19.0\\\", \\\"azureml-pipeline-steps\\\": \\\"1.19.0\\\", \\\"azureml-pipeline-core\\\": \\\"1.19.0\\\", \\\"azureml-opendatasets\\\": \\\"1.19.0\\\", \\\"azureml-model-management-sdk\\\": \\\"1.0.1b6.post1\\\", \\\"azureml-mlflow\\\": \\\"1.19.0\\\", \\\"azureml-interpret\\\": \\\"1.19.0\\\", \\\"azureml-explain-model\\\": \\\"1.19.0\\\", \\\"azureml-defaults\\\": \\\"1.19.0\\\", \\\"azureml-dataset-runtime\\\": \\\"1.19.0.post1\\\", \\\"azureml-dataprep\\\": \\\"2.6.1\\\", \\\"azureml-dataprep-rslex\\\": \\\"1.4.0\\\", \\\"azureml-dataprep-native\\\": \\\"26.0.0\\\", \\\"azureml-datadrift\\\": \\\"1.19.0\\\", \\\"azureml-core\\\": \\\"1.19.0\\\", \\\"azureml-contrib-services\\\": \\\"1.19.0\\\", \\\"azureml-contrib-server\\\": \\\"1.19.0\\\", \\\"azureml-contrib-reinforcementlearning\\\": \\\"1.19.0\\\", \\\"azureml-contrib-pipeline-steps\\\": \\\"1.19.0\\\", \\\"azureml-contrib-notebook\\\": \\\"1.19.0\\\", \\\"azureml-contrib-interpret\\\": \\\"1.19.0\\\", \\\"azureml-contrib-gbdt\\\": \\\"1.19.0\\\", \\\"azureml-contrib-fairness\\\": \\\"1.19.0\\\", \\\"azureml-contrib-dataset\\\": \\\"1.19.0\\\", \\\"azureml-cli-common\\\": \\\"1.19.0\\\", \\\"azureml-automl-runtime\\\": \\\"1.19.0\\\", \\\"azureml-automl-core\\\": \\\"1.19.0\\\", \\\"azureml-accel-models\\\": \\\"1.19.0\\\"}\", \"_aml_system_scenario_identification\": \"Remote.Parent\", \"ClientType\": \"SDK\", \"environment_cpu_name\": \"AzureML-AutoML\", \"environment_cpu_label\": \"prod\", \"environment_gpu_name\": \"AzureML-AutoML-GPU\", \"environment_gpu_label\": \"prod\", \"root_attribution\": \"automl\", \"attribution\": \"AutoML\", \"Orchestrator\": \"AutoML\", \"CancelUri\": \"https://southcentralus.experiments.azureml.net/jasmine/v1.0/subscriptions/510b94ba-e453-4417-988b-fbdc37b55ca7/resourceGroups/aml-quickstarts-135758/providers/Microsoft.MachineLearningServices/workspaces/quick-starts-ws-135758/experimentids/1cd44620-e3bc-48db-983c-9bc75767c435/cancel/AutoML_036c5960-9124-4360-b32c-e1c6a0dca31a\", \"ClientSdkVersion\": \"1.20.0\", \"snapshotId\": \"00000000-0000-0000-0000-000000000000\", \"SetupRunId\": \"AutoML_036c5960-9124-4360-b32c-e1c6a0dca31a_setup\", \"SetupRunContainerId\": \"dcid.AutoML_036c5960-9124-4360-b32c-e1c6a0dca31a_setup\", \"FeaturizationRunJsonPath\": \"featurizer_container.json\", \"FeaturizationRunId\": \"AutoML_036c5960-9124-4360-b32c-e1c6a0dca31a_featurize\", \"ProblemInfoJsonString\": \"{\\\"dataset_num_categorical\\\": 0, \\\"is_sparse\\\": false, \\\"subsampling\\\": false, \\\"dataset_classes\\\": 2, \\\"dataset_features\\\": 25, \\\"dataset_samples\\\": 183, \\\"single_frequency_class_detected\\\": false}\", \"ModelExplainRunId\": \"AutoML_036c5960-9124-4360-b32c-e1c6a0dca31a_ModelExplain\"}, \"tags\": {\"model_explain_run\": \"best_run\", \"_aml_system_azureml.automlComponent\": \"AutoML\", \"pipeline_id\": \"\", \"score\": \"\", \"predicted_cost\": \"\", \"fit_time\": \"\", \"training_percent\": \"\", \"iteration\": \"\", \"run_preprocessor\": \"\", \"run_algorithm\": \"\", \"dynamic_whitelisting_iterations\": \"<25>;\", \"automl_best_child_run_id\": \"AutoML_036c5960-9124-4360-b32c-e1c6a0dca31a_28\", \"model_explain_best_run_child_id\": \"AutoML_036c5960-9124-4360-b32c-e1c6a0dca31a_28\"}, \"end_time_utc\": \"2021-01-23T09:32:23.337718Z\", \"status\": \"Completed\", \"log_files\": {}, \"log_groups\": [], \"run_duration\": \"0:39:42\"}, \"child_runs\": [{\"run_id\": \"AutoML_036c5960-9124-4360-b32c-e1c6a0dca31a_0\", \"run_number\": 48, \"metric\": null, \"status\": \"Completed\", \"run_type\": \"azureml.scriptrun\", \"training_percent\": \"100\", \"start_time\": \"2021-01-23T09:00:32.743416Z\", \"end_time\": \"2021-01-23T09:01:21.470986Z\", \"created_time\": \"2021-01-23T09:00:20.646498Z\", \"created_time_dt\": \"2021-01-23T09:00:20.646498Z\", \"duration\": \"0:01:00\", \"iteration\": \"0\", \"goal\": \"average_precision_score_weighted_max\", \"run_name\": \"MaxAbsScaler, LightGBM\", \"run_properties\": \"copy=True\", \"primary_metric\": 0.90059229, \"best_metric\": 0.90059229}, {\"run_id\": \"AutoML_036c5960-9124-4360-b32c-e1c6a0dca31a_1\", \"run_number\": 50, \"metric\": null, \"status\": \"Completed\", \"run_type\": \"azureml.scriptrun\", \"training_percent\": \"100\", \"start_time\": \"2021-01-23T09:01:32.743004Z\", \"end_time\": \"2021-01-23T09:02:17.301581Z\", \"created_time\": \"2021-01-23T09:01:22.532881Z\", \"created_time_dt\": \"2021-01-23T09:01:22.532881Z\", \"duration\": \"0:00:54\", \"iteration\": \"1\", \"goal\": \"average_precision_score_weighted_max\", \"run_name\": \"MaxAbsScaler, XGBoostClassifier\", \"run_properties\": \"copy=True\", \"primary_metric\": 0.88599111, \"best_metric\": 0.90059229}, {\"run_id\": \"AutoML_036c5960-9124-4360-b32c-e1c6a0dca31a_2\", \"run_number\": 52, \"metric\": null, \"status\": \"Completed\", \"run_type\": \"azureml.scriptrun\", \"training_percent\": \"100\", \"start_time\": \"2021-01-23T09:02:29.476563Z\", \"end_time\": \"2021-01-23T09:03:38.121137Z\", \"created_time\": \"2021-01-23T09:02:18.952223Z\", \"created_time_dt\": \"2021-01-23T09:02:18.952223Z\", \"duration\": \"0:01:19\", \"iteration\": \"2\", \"goal\": \"average_precision_score_weighted_max\", \"run_name\": \"RobustScaler, ExtremeRandomTrees\", \"run_properties\": \"copy=True, quantile_range=[10, 90], with_centering=False,\\n             with_scaling=False\", \"primary_metric\": 0.8763954, \"best_metric\": 0.90059229}, {\"run_id\": \"AutoML_036c5960-9124-4360-b32c-e1c6a0dca31a_3\", \"run_number\": 54, \"metric\": null, \"status\": \"Completed\", \"run_type\": \"azureml.scriptrun\", \"training_percent\": \"100\", \"start_time\": \"2021-01-23T09:03:51.767835Z\", \"end_time\": \"2021-01-23T09:04:42.166723Z\", \"created_time\": \"2021-01-23T09:03:40.245972Z\", \"created_time_dt\": \"2021-01-23T09:03:40.245972Z\", \"duration\": \"0:01:01\", \"iteration\": \"3\", \"goal\": \"average_precision_score_weighted_max\", \"run_name\": \"RobustScaler, ExtremeRandomTrees\", \"run_properties\": \"copy=True, quantile_range=[10, 90], with_centering=True,\\n             with_scaling=False\", \"primary_metric\": 0.89085893, \"best_metric\": 0.90059229}, {\"run_id\": \"AutoML_036c5960-9124-4360-b32c-e1c6a0dca31a_4\", \"run_number\": 56, \"metric\": null, \"status\": \"Completed\", \"run_type\": \"azureml.scriptrun\", \"training_percent\": \"100\", \"start_time\": \"2021-01-23T09:04:55.799337Z\", \"end_time\": \"2021-01-23T09:05:43.395427Z\", \"created_time\": \"2021-01-23T09:04:44.476012Z\", \"created_time_dt\": \"2021-01-23T09:04:44.476012Z\", \"duration\": \"0:00:58\", \"iteration\": \"4\", \"goal\": \"average_precision_score_weighted_max\", \"run_name\": \"MinMaxScaler, ExtremeRandomTrees\", \"run_properties\": \"copy=True, feature_range=(0, 1\", \"primary_metric\": 0.88992789, \"best_metric\": 0.90059229}, {\"run_id\": \"AutoML_036c5960-9124-4360-b32c-e1c6a0dca31a_5\", \"run_number\": 58, \"metric\": null, \"status\": \"Completed\", \"run_type\": \"azureml.scriptrun\", \"training_percent\": \"100\", \"start_time\": \"2021-01-23T09:05:58.144215Z\", \"end_time\": \"2021-01-23T09:06:49.88847Z\", \"created_time\": \"2021-01-23T09:05:45.338718Z\", \"created_time_dt\": \"2021-01-23T09:05:45.338718Z\", \"duration\": \"0:01:04\", \"iteration\": \"5\", \"goal\": \"average_precision_score_weighted_max\", \"run_name\": \"StandardScalerWrapper, RandomForest\", \"run_properties\": \"<azureml.automl.runtime.shared.model_wrappers.StandardScalerWrapper object at 0x7fbabd230a58\", \"primary_metric\": 0.88708897, \"best_metric\": 0.90059229}, {\"run_id\": \"AutoML_036c5960-9124-4360-b32c-e1c6a0dca31a_6\", \"run_number\": 60, \"metric\": null, \"status\": \"Completed\", \"run_type\": \"azureml.scriptrun\", \"training_percent\": \"100\", \"start_time\": \"2021-01-23T09:07:06.141801Z\", \"end_time\": \"2021-01-23T09:08:03.763716Z\", \"created_time\": \"2021-01-23T09:06:53.181477Z\", \"created_time_dt\": \"2021-01-23T09:06:53.181477Z\", \"duration\": \"0:01:10\", \"iteration\": \"6\", \"goal\": \"average_precision_score_weighted_max\", \"run_name\": \"MinMaxScaler, ExtremeRandomTrees\", \"run_properties\": \"copy=True, feature_range=(0, 1\", \"primary_metric\": 0.89451723, \"best_metric\": 0.90059229}, {\"run_id\": \"AutoML_036c5960-9124-4360-b32c-e1c6a0dca31a_7\", \"run_number\": 62, \"metric\": null, \"status\": \"Completed\", \"run_type\": \"azureml.scriptrun\", \"training_percent\": \"100\", \"start_time\": \"2021-01-23T09:08:17.669009Z\", \"end_time\": \"2021-01-23T09:09:05.139978Z\", \"created_time\": \"2021-01-23T09:08:06.777504Z\", \"created_time_dt\": \"2021-01-23T09:08:06.777504Z\", \"duration\": \"0:00:58\", \"iteration\": \"7\", \"goal\": \"average_precision_score_weighted_max\", \"run_name\": \"StandardScalerWrapper, KNN\", \"run_properties\": \"<azureml.automl.runtime.shared.model_wrappers.StandardScalerWrapper object at 0x7f5f37584d68\", \"primary_metric\": 0.85904022, \"best_metric\": 0.90059229}, {\"run_id\": \"AutoML_036c5960-9124-4360-b32c-e1c6a0dca31a_8\", \"run_number\": 64, \"metric\": null, \"status\": \"Completed\", \"run_type\": \"azureml.scriptrun\", \"training_percent\": \"100\", \"start_time\": \"2021-01-23T09:09:20.969096Z\", \"end_time\": \"2021-01-23T09:10:05.667876Z\", \"created_time\": \"2021-01-23T09:09:08.671697Z\", \"created_time_dt\": \"2021-01-23T09:09:08.671697Z\", \"duration\": \"0:00:56\", \"iteration\": \"8\", \"goal\": \"average_precision_score_weighted_max\", \"run_name\": \"MinMaxScaler, ExtremeRandomTrees\", \"run_properties\": \"copy=True, feature_range=(0, 1\", \"primary_metric\": 0.87626518, \"best_metric\": 0.90059229}, {\"run_id\": \"AutoML_036c5960-9124-4360-b32c-e1c6a0dca31a_9\", \"run_number\": 66, \"metric\": null, \"status\": \"Completed\", \"run_type\": \"azureml.scriptrun\", \"training_percent\": \"100\", \"start_time\": \"2021-01-23T09:10:22.18426Z\", \"end_time\": \"2021-01-23T09:11:09.77341Z\", \"created_time\": \"2021-01-23T09:10:09.268161Z\", \"created_time_dt\": \"2021-01-23T09:10:09.268161Z\", \"duration\": \"0:01:00\", \"iteration\": \"9\", \"goal\": \"average_precision_score_weighted_max\", \"run_name\": \"RobustScaler, RandomForest\", \"run_properties\": \"copy=True, quantile_range=[25, 75], with_centering=True,\\n             with_scaling=False\", \"primary_metric\": 0.87225982, \"best_metric\": 0.90059229}, {\"run_id\": \"AutoML_036c5960-9124-4360-b32c-e1c6a0dca31a_10\", \"run_number\": 68, \"metric\": null, \"status\": \"Completed\", \"run_type\": \"azureml.scriptrun\", \"training_percent\": \"100\", \"start_time\": \"2021-01-23T09:11:25.100346Z\", \"end_time\": \"2021-01-23T09:12:09.683008Z\", \"created_time\": \"2021-01-23T09:11:13.150093Z\", \"created_time_dt\": \"2021-01-23T09:11:13.150093Z\", \"duration\": \"0:00:56\", \"iteration\": \"10\", \"goal\": \"average_precision_score_weighted_max\", \"run_name\": \"StandardScalerWrapper, RandomForest\", \"run_properties\": \"<azureml.automl.runtime.shared.model_wrappers.StandardScalerWrapper object at 0x7fb1299aa6d8\", \"primary_metric\": 0.87256601, \"best_metric\": 0.90059229}, {\"run_id\": \"AutoML_036c5960-9124-4360-b32c-e1c6a0dca31a_11\", \"run_number\": 70, \"metric\": null, \"status\": \"Completed\", \"run_type\": \"azureml.scriptrun\", \"training_percent\": \"100\", \"start_time\": \"2021-01-23T09:12:26.303255Z\", \"end_time\": \"2021-01-23T09:13:15.822745Z\", \"created_time\": \"2021-01-23T09:12:12.390269Z\", \"created_time_dt\": \"2021-01-23T09:12:12.390269Z\", \"duration\": \"0:01:03\", \"iteration\": \"11\", \"goal\": \"average_precision_score_weighted_max\", \"run_name\": \"StandardScalerWrapper, ExtremeRandomTrees\", \"run_properties\": \"<azureml.automl.runtime.shared.model_wrappers.StandardScalerWrapper object at 0x7f6123405c88\", \"primary_metric\": 0.88071016, \"best_metric\": 0.90059229}, {\"run_id\": \"AutoML_036c5960-9124-4360-b32c-e1c6a0dca31a_12\", \"run_number\": 72, \"metric\": null, \"status\": \"Completed\", \"run_type\": \"azureml.scriptrun\", \"training_percent\": \"100\", \"start_time\": \"2021-01-23T09:13:36.047352Z\", \"end_time\": \"2021-01-23T09:14:29.261879Z\", \"created_time\": \"2021-01-23T09:13:19.662428Z\", \"created_time_dt\": \"2021-01-23T09:13:19.662428Z\", \"duration\": \"0:01:09\", \"iteration\": \"12\", \"goal\": \"average_precision_score_weighted_max\", \"run_name\": \"RobustScaler, ExtremeRandomTrees\", \"run_properties\": \"copy=True, quantile_range=[10, 90], with_centering=False,\\n             with_scaling=False\", \"primary_metric\": 0.85658623, \"best_metric\": 0.90059229}, {\"run_id\": \"AutoML_036c5960-9124-4360-b32c-e1c6a0dca31a_13\", \"run_number\": 74, \"metric\": null, \"status\": \"Completed\", \"run_type\": \"azureml.scriptrun\", \"training_percent\": \"100\", \"start_time\": \"2021-01-23T09:14:44.475202Z\", \"end_time\": \"2021-01-23T09:15:27.229787Z\", \"created_time\": \"2021-01-23T09:14:32.121643Z\", \"created_time_dt\": \"2021-01-23T09:14:32.121643Z\", \"duration\": \"0:00:55\", \"iteration\": \"13\", \"goal\": \"average_precision_score_weighted_max\", \"run_name\": \"MinMaxScaler, ExtremeRandomTrees\", \"run_properties\": \"copy=True, feature_range=(0, 1\", \"primary_metric\": 0.88306746, \"best_metric\": 0.90059229}, {\"run_id\": \"AutoML_036c5960-9124-4360-b32c-e1c6a0dca31a_14\", \"run_number\": 76, \"metric\": null, \"status\": \"Completed\", \"run_type\": \"azureml.scriptrun\", \"training_percent\": \"100\", \"start_time\": \"2021-01-23T09:15:44.316236Z\", \"end_time\": \"2021-01-23T09:16:36.423546Z\", \"created_time\": \"2021-01-23T09:15:30.106075Z\", \"created_time_dt\": \"2021-01-23T09:15:30.106075Z\", \"duration\": \"0:01:06\", \"iteration\": \"14\", \"goal\": \"average_precision_score_weighted_max\", \"run_name\": \"MinMaxScaler, RandomForest\", \"run_properties\": \"copy=True, feature_range=(0, 1\", \"primary_metric\": 0.9003581, \"best_metric\": 0.90059229}, {\"run_id\": \"AutoML_036c5960-9124-4360-b32c-e1c6a0dca31a_15\", \"run_number\": 78, \"metric\": null, \"status\": \"Completed\", \"run_type\": \"azureml.scriptrun\", \"training_percent\": \"100\", \"start_time\": \"2021-01-23T09:16:50.669156Z\", \"end_time\": \"2021-01-23T09:17:42.684405Z\", \"created_time\": \"2021-01-23T09:16:39.834938Z\", \"created_time_dt\": \"2021-01-23T09:16:39.834938Z\", \"duration\": \"0:01:02\", \"iteration\": \"15\", \"goal\": \"average_precision_score_weighted_max\", \"run_name\": \"StandardScalerWrapper, XGBoostClassifier\", \"run_properties\": \"<azureml.automl.runtime.shared.model_wrappers.StandardScalerWrapper object at 0x7fded588f898\", \"primary_metric\": 0.89604693, \"best_metric\": 0.90059229}, {\"run_id\": \"AutoML_036c5960-9124-4360-b32c-e1c6a0dca31a_16\", \"run_number\": 80, \"metric\": null, \"status\": \"Completed\", \"run_type\": \"azureml.scriptrun\", \"training_percent\": \"100\", \"start_time\": \"2021-01-23T09:17:57.717075Z\", \"end_time\": \"2021-01-23T09:18:48.249729Z\", \"created_time\": \"2021-01-23T09:17:46.124935Z\", \"created_time_dt\": \"2021-01-23T09:17:46.124935Z\", \"duration\": \"0:01:02\", \"iteration\": \"16\", \"goal\": \"average_precision_score_weighted_max\", \"run_name\": \"MaxAbsScaler, ExtremeRandomTrees\", \"run_properties\": \"copy=True\", \"primary_metric\": 0.86626694, \"best_metric\": 0.90059229}, {\"run_id\": \"AutoML_036c5960-9124-4360-b32c-e1c6a0dca31a_17\", \"run_number\": 82, \"metric\": null, \"status\": \"Completed\", \"run_type\": \"azureml.scriptrun\", \"training_percent\": \"100\", \"start_time\": \"2021-01-23T09:19:01.883468Z\", \"end_time\": \"2021-01-23T09:19:49.333318Z\", \"created_time\": \"2021-01-23T09:18:51.133008Z\", \"created_time_dt\": \"2021-01-23T09:18:51.133008Z\", \"duration\": \"0:00:58\", \"iteration\": \"17\", \"goal\": \"average_precision_score_weighted_max\", \"run_name\": \"MaxAbsScaler, RandomForest\", \"run_properties\": \"copy=True\", \"primary_metric\": 0.89125953, \"best_metric\": 0.90059229}, {\"run_id\": \"AutoML_036c5960-9124-4360-b32c-e1c6a0dca31a_18\", \"run_number\": 84, \"metric\": null, \"status\": \"Completed\", \"run_type\": \"azureml.scriptrun\", \"training_percent\": \"100\", \"start_time\": \"2021-01-23T09:20:03.600357Z\", \"end_time\": \"2021-01-23T09:20:57.076773Z\", \"created_time\": \"2021-01-23T09:19:52.52597Z\", \"created_time_dt\": \"2021-01-23T09:19:52.52597Z\", \"duration\": \"0:01:04\", \"iteration\": \"18\", \"goal\": \"average_precision_score_weighted_max\", \"run_name\": \"MinMaxScaler, RandomForest\", \"run_properties\": \"copy=True, feature_range=(0, 1\", \"primary_metric\": 0.87322172, \"best_metric\": 0.90059229}, {\"run_id\": \"AutoML_036c5960-9124-4360-b32c-e1c6a0dca31a_19\", \"run_number\": 85, \"metric\": null, \"status\": \"Completed\", \"run_type\": \"azureml.scriptrun\", \"training_percent\": \"100\", \"start_time\": \"2021-01-23T09:21:16.372099Z\", \"end_time\": \"2021-01-23T09:22:01.939192Z\", \"created_time\": \"2021-01-23T09:21:00.636379Z\", \"created_time_dt\": \"2021-01-23T09:21:00.636379Z\", \"duration\": \"0:01:01\", \"iteration\": \"19\", \"goal\": \"average_precision_score_weighted_max\", \"run_name\": \"MaxAbsScaler, ExtremeRandomTrees\", \"run_properties\": \"copy=True\", \"primary_metric\": 0.87341655, \"best_metric\": 0.90059229}, {\"run_id\": \"AutoML_036c5960-9124-4360-b32c-e1c6a0dca31a_20\", \"run_number\": 87, \"metric\": null, \"status\": \"Completed\", \"run_type\": \"azureml.scriptrun\", \"training_percent\": \"100\", \"start_time\": \"2021-01-23T09:22:16.055982Z\", \"end_time\": \"2021-01-23T09:23:03.555531Z\", \"created_time\": \"2021-01-23T09:22:04.560563Z\", \"created_time_dt\": \"2021-01-23T09:22:04.560563Z\", \"duration\": \"0:00:58\", \"iteration\": \"20\", \"goal\": \"average_precision_score_weighted_max\", \"run_name\": \"MinMaxScaler, ExtremeRandomTrees\", \"run_properties\": \"copy=True, feature_range=(0, 1\", \"primary_metric\": 0.88435836, \"best_metric\": 0.90059229}, {\"run_id\": \"AutoML_036c5960-9124-4360-b32c-e1c6a0dca31a_21\", \"run_number\": 89, \"metric\": null, \"status\": \"Completed\", \"run_type\": \"azureml.scriptrun\", \"training_percent\": \"100\", \"start_time\": \"2021-01-23T09:23:17.987721Z\", \"end_time\": \"2021-01-23T09:24:08.242257Z\", \"created_time\": \"2021-01-23T09:23:06.026346Z\", \"created_time_dt\": \"2021-01-23T09:23:06.026346Z\", \"duration\": \"0:01:02\", \"iteration\": \"21\", \"goal\": \"average_precision_score_weighted_max\", \"run_name\": \"RobustScaler, LightGBM\", \"run_properties\": \"copy=True, quantile_range=[25, 75], with_centering=False,\\n             with_scaling=False\", \"primary_metric\": 0.87858354, \"best_metric\": 0.90059229}, {\"run_id\": \"AutoML_036c5960-9124-4360-b32c-e1c6a0dca31a_22\", \"run_number\": 91, \"metric\": null, \"status\": \"Completed\", \"run_type\": \"azureml.scriptrun\", \"training_percent\": \"100\", \"start_time\": \"2021-01-23T09:24:24.322552Z\", \"end_time\": \"2021-01-23T09:25:09.059639Z\", \"created_time\": \"2021-01-23T09:24:10.799877Z\", \"created_time_dt\": \"2021-01-23T09:24:10.799877Z\", \"duration\": \"0:00:58\", \"iteration\": \"22\", \"goal\": \"average_precision_score_weighted_max\", \"run_name\": \"StandardScalerWrapper, LogisticRegression\", \"run_properties\": \"<azureml.automl.runtime.shared.model_wrappers.StandardScalerWrapper object at 0x7fad1ab95400\", \"primary_metric\": 0.85337816, \"best_metric\": 0.90059229}, {\"run_id\": \"AutoML_036c5960-9124-4360-b32c-e1c6a0dca31a_23\", \"run_number\": 93, \"metric\": null, \"status\": \"Completed\", \"run_type\": \"azureml.scriptrun\", \"training_percent\": \"100\", \"start_time\": \"2021-01-23T09:25:24.897822Z\", \"end_time\": \"2021-01-23T09:26:26.496202Z\", \"created_time\": \"2021-01-23T09:25:11.408255Z\", \"created_time_dt\": \"2021-01-23T09:25:11.408255Z\", \"duration\": \"0:01:15\", \"iteration\": \"23\", \"goal\": \"average_precision_score_weighted_max\", \"run_name\": \"StandardScalerWrapper, ExtremeRandomTrees\", \"run_properties\": \"<azureml.automl.runtime.shared.model_wrappers.StandardScalerWrapper object at 0x7f7a7d282a90\", \"primary_metric\": 0.8735613, \"best_metric\": 0.90059229}, {\"run_id\": \"AutoML_036c5960-9124-4360-b32c-e1c6a0dca31a_24\", \"run_number\": 95, \"metric\": null, \"status\": \"Completed\", \"run_type\": \"azureml.scriptrun\", \"training_percent\": \"100\", \"start_time\": \"2021-01-23T09:26:40.620016Z\", \"end_time\": \"2021-01-23T09:27:28.038179Z\", \"created_time\": \"2021-01-23T09:26:29.405768Z\", \"created_time_dt\": \"2021-01-23T09:26:29.405768Z\", \"duration\": \"0:00:58\", \"iteration\": \"24\", \"goal\": \"average_precision_score_weighted_max\", \"run_name\": \"MinMaxScaler, LightGBM\", \"run_properties\": \"copy=True, feature_range=(0, 1\", \"primary_metric\": 0.87858354, \"best_metric\": 0.90059229}, {\"run_id\": \"AutoML_036c5960-9124-4360-b32c-e1c6a0dca31a_25\", \"run_number\": 97, \"metric\": null, \"status\": \"Completed\", \"run_type\": \"azureml.scriptrun\", \"training_percent\": \"100\", \"start_time\": \"2021-01-23T09:27:44.567591Z\", \"end_time\": \"2021-01-23T09:28:36.436062Z\", \"created_time\": \"2021-01-23T09:27:31.612752Z\", \"created_time_dt\": \"2021-01-23T09:27:31.612752Z\", \"duration\": \"0:01:04\", \"iteration\": \"25\", \"goal\": \"average_precision_score_weighted_max\", \"run_name\": \"SparseNormalizer, LightGBM\", \"run_properties\": \"<azureml.automl.runtime.shared.model_wrappers.SparseNormalizer object at 0x7ff49dd6b630\", \"primary_metric\": 0.87754127, \"best_metric\": 0.90059229}, {\"run_id\": \"AutoML_036c5960-9124-4360-b32c-e1c6a0dca31a_26\", \"run_number\": 99, \"metric\": null, \"status\": \"Completed\", \"run_type\": \"azureml.scriptrun\", \"training_percent\": \"100\", \"start_time\": \"2021-01-23T09:28:50.584499Z\", \"end_time\": \"2021-01-23T09:29:32.949444Z\", \"created_time\": \"2021-01-23T09:28:38.705016Z\", \"created_time_dt\": \"2021-01-23T09:28:38.705016Z\", \"duration\": \"0:00:54\", \"iteration\": \"26\", \"goal\": \"average_precision_score_weighted_max\", \"run_name\": \"StandardScalerWrapper, XGBoostClassifier\", \"run_properties\": \"<azureml.automl.runtime.shared.model_wrappers.StandardScalerWrapper object at 0x7fe184d650b8\", \"primary_metric\": 0.8927254, \"best_metric\": 0.90059229}, {\"run_id\": \"AutoML_036c5960-9124-4360-b32c-e1c6a0dca31a_27\", \"run_number\": 101, \"metric\": null, \"status\": \"Completed\", \"run_type\": \"azureml.scriptrun\", \"training_percent\": \"100\", \"start_time\": \"2021-01-23T09:29:48.309649Z\", \"end_time\": \"2021-01-23T09:30:36.976821Z\", \"created_time\": \"2021-01-23T09:29:35.31457Z\", \"created_time_dt\": \"2021-01-23T09:29:35.31457Z\", \"duration\": \"0:01:01\", \"iteration\": \"27\", \"goal\": \"average_precision_score_weighted_max\", \"run_name\": \"StandardScalerWrapper, XGBoostClassifier\", \"run_properties\": \"<azureml.automl.runtime.shared.model_wrappers.StandardScalerWrapper object at 0x7fd2e159b7b8\", \"primary_metric\": 0.89118221, \"best_metric\": 0.90059229}, {\"run_id\": \"AutoML_036c5960-9124-4360-b32c-e1c6a0dca31a_28\", \"run_number\": 103, \"metric\": null, \"status\": \"Completed\", \"run_type\": \"azureml.scriptrun\", \"training_percent\": \"100\", \"start_time\": \"2021-01-23T09:30:48.740548Z\", \"end_time\": \"2021-01-23T09:32:11.575998Z\", \"created_time\": \"2021-01-23T09:30:38.359245Z\", \"created_time_dt\": \"2021-01-23T09:30:38.359245Z\", \"duration\": \"0:01:33\", \"iteration\": \"28\", \"goal\": \"average_precision_score_weighted_max\", \"run_name\": \"VotingEnsemble\", \"run_properties\": \"classification_labels=None,\\n                              estimators=[('0',\\n                                           Pipeline(memory=None,\\n                                                    steps=[('maxabsscaler',\\n                                                            MaxAbsScaler(copy=True\", \"primary_metric\": 0.90608893, \"best_metric\": 0.90608893}], \"children_metrics\": {\"categories\": [0], \"series\": {\"balanced_accuracy\": [{\"categories\": [\"0\", \"1\", \"2\", \"3\", \"4\", \"5\", \"6\", \"7\", \"8\", \"9\", \"10\", \"11\", \"12\", \"13\", \"14\", \"15\", \"16\", \"17\", \"18\", \"19\", \"20\", \"21\", \"22\", \"23\", \"24\", \"25\", \"26\", \"27\", \"28\"], \"mode\": \"markers\", \"name\": \"balanced_accuracy\", \"stepped\": false, \"type\": \"scatter\", \"data\": [0.48831423478482305, 0.55, 0.5, 0.5, 0.5, 0.5, 0.5, 0.5, 0.4763814616755793, 0.5838961038961038, 0.48587216704863767, 0.5, 0.47049401578813344, 0.5, 0.55, 0.5, 0.4419276801629743, 0.5, 0.5, 0.4911764705882353, 0.48855614973262035, 0.5, 0.47949070537305827, 0.4975528393175452, 0.5, 0.5, 0.5, 0.5, 0.5]}, {\"categories\": [\"0\", \"1\", \"2\", \"3\", \"4\", \"5\", \"6\", \"7\", \"8\", \"9\", \"10\", \"11\", \"12\", \"13\", \"14\", \"15\", \"16\", \"17\", \"18\", \"19\", \"20\", \"21\", \"22\", \"23\", \"24\", \"25\", \"26\", \"27\", \"28\"], \"mode\": \"lines\", \"name\": \"balanced_accuracy_max\", \"stepped\": true, \"type\": \"scatter\", \"data\": [0.48831423478482305, 0.55, 0.55, 0.55, 0.55, 0.55, 0.55, 0.55, 0.55, 0.5838961038961038, 0.5838961038961038, 0.5838961038961038, 0.5838961038961038, 0.5838961038961038, 0.5838961038961038, 0.5838961038961038, 0.5838961038961038, 0.5838961038961038, 0.5838961038961038, 0.5838961038961038, 0.5838961038961038, 0.5838961038961038, 0.5838961038961038, 0.5838961038961038, 0.5838961038961038, 0.5838961038961038, 0.5838961038961038, 0.5838961038961038, 0.5838961038961038]}], \"norm_macro_recall\": [{\"categories\": [\"0\", \"1\", \"2\", \"3\", \"4\", \"5\", \"6\", \"7\", \"8\", \"9\", \"10\", \"11\", \"12\", \"13\", \"14\", \"15\", \"16\", \"17\", \"18\", \"19\", \"20\", \"21\", \"22\", \"23\", \"24\", \"25\", \"26\", \"27\", \"28\"], \"mode\": \"markers\", \"name\": \"norm_macro_recall\", \"stepped\": false, \"type\": \"scatter\", \"data\": [0.0, 0.1, 0.0, 0.0, 0.0, 0.0, 0.0, 0.0, 0.0, 0.2677922077922078, 0.06000000000000001, 0.0, 0.0, 0.0, 0.1, 0.0, 0.0, 0.0, 0.0, 0.0, 0.06571428571428575, 0.0, 0.0, 0.07142857142857144, 0.0, 0.0, 0.0, 0.0, 0.0]}, {\"categories\": [\"0\", \"1\", \"2\", \"3\", \"4\", \"5\", \"6\", \"7\", \"8\", \"9\", \"10\", \"11\", \"12\", \"13\", \"14\", \"15\", \"16\", \"17\", \"18\", \"19\", \"20\", \"21\", \"22\", \"23\", \"24\", \"25\", \"26\", \"27\", \"28\"], \"mode\": \"lines\", \"name\": \"norm_macro_recall_max\", \"stepped\": true, \"type\": \"scatter\", \"data\": [0.0, 0.1, 0.1, 0.1, 0.1, 0.1, 0.1, 0.1, 0.1, 0.2677922077922078, 0.2677922077922078, 0.2677922077922078, 0.2677922077922078, 0.2677922077922078, 0.2677922077922078, 0.2677922077922078, 0.2677922077922078, 0.2677922077922078, 0.2677922077922078, 0.2677922077922078, 0.2677922077922078, 0.2677922077922078, 0.2677922077922078, 0.2677922077922078, 0.2677922077922078, 0.2677922077922078, 0.2677922077922078, 0.2677922077922078, 0.2677922077922078]}], \"f1_score_micro\": [{\"categories\": [\"0\", \"1\", \"2\", \"3\", \"4\", \"5\", \"6\", \"7\", \"8\", \"9\", \"10\", \"11\", \"12\", \"13\", \"14\", \"15\", \"16\", \"17\", \"18\", \"19\", \"20\", \"21\", \"22\", \"23\", \"24\", \"25\", \"26\", \"27\", \"28\"], \"mode\": \"markers\", \"name\": \"f1_score_micro\", \"stepped\": false, \"type\": \"scatter\", \"data\": [0.9127627627627628, 0.93993993993994, 0.9345345345345345, 0.9345345345345345, 0.9345345345345345, 0.9345345345345345, 0.9345345345345345, 0.9345345345345345, 0.8911411411411411, 0.7659159159159159, 0.8204204204204204, 0.9345345345345345, 0.88003003003003, 0.9345345345345345, 0.93993993993994, 0.9345345345345345, 0.8253753753753752, 0.9345345345345345, 0.9345345345345345, 0.9183183183183183, 0.8258258258258258, 0.9345345345345345, 0.8963963963963962, 0.841891891891892, 0.9345345345345345, 0.9345345345345345, 0.9345345345345345, 0.9345345345345345, 0.9345345345345345]}, {\"categories\": [\"0\", \"1\", \"2\", \"3\", \"4\", \"5\", \"6\", \"7\", \"8\", \"9\", \"10\", \"11\", \"12\", \"13\", \"14\", \"15\", \"16\", \"17\", \"18\", \"19\", \"20\", \"21\", \"22\", \"23\", \"24\", \"25\", \"26\", \"27\", \"28\"], \"mode\": \"lines\", \"name\": \"f1_score_micro_max\", \"stepped\": true, \"type\": \"scatter\", \"data\": [0.9127627627627628, 0.93993993993994, 0.93993993993994, 0.93993993993994, 0.93993993993994, 0.93993993993994, 0.93993993993994, 0.93993993993994, 0.93993993993994, 0.93993993993994, 0.93993993993994, 0.93993993993994, 0.93993993993994, 0.93993993993994, 0.93993993993994, 0.93993993993994, 0.93993993993994, 0.93993993993994, 0.93993993993994, 0.93993993993994, 0.93993993993994, 0.93993993993994, 0.93993993993994, 0.93993993993994, 0.93993993993994, 0.93993993993994, 0.93993993993994, 0.93993993993994, 0.93993993993994]}], \"precision_score_macro\": [{\"categories\": [\"0\", \"1\", \"2\", \"3\", \"4\", \"5\", \"6\", \"7\", \"8\", \"9\", \"10\", \"11\", \"12\", \"13\", \"14\", \"15\", \"16\", \"17\", \"18\", \"19\", \"20\", \"21\", \"22\", \"23\", \"24\", \"25\", \"26\", \"27\", \"28\"], \"mode\": \"markers\", \"name\": \"precision_score_macro\", \"stepped\": false, \"type\": \"scatter\", \"data\": [0.46649506649506656, 0.569894894894895, 0.46726726726726725, 0.46726726726726725, 0.46726726726726725, 0.46726726726726725, 0.46726726726726725, 0.46726726726726725, 0.46529895967395973, 0.51648056923919, 0.47811866125760655, 0.46726726726726725, 0.4649674937542585, 0.46726726726726725, 0.569894894894895, 0.46726726726726725, 0.4633564711150918, 0.46726726726726725, 0.46726726726726725, 0.46655184596361066, 0.47971861471861477, 0.46726726726726725, 0.46585901027077503, 0.4833381798467188, 0.46726726726726725, 0.46726726726726725, 0.46726726726726725, 0.46726726726726725, 0.46726726726726725]}, {\"categories\": [\"0\", \"1\", \"2\", \"3\", \"4\", \"5\", \"6\", \"7\", \"8\", \"9\", \"10\", \"11\", \"12\", \"13\", \"14\", \"15\", \"16\", \"17\", \"18\", \"19\", \"20\", \"21\", \"22\", \"23\", \"24\", \"25\", \"26\", \"27\", \"28\"], \"mode\": \"lines\", \"name\": \"precision_score_macro_max\", \"stepped\": true, \"type\": \"scatter\", \"data\": [0.46649506649506656, 0.569894894894895, 0.569894894894895, 0.569894894894895, 0.569894894894895, 0.569894894894895, 0.569894894894895, 0.569894894894895, 0.569894894894895, 0.569894894894895, 0.569894894894895, 0.569894894894895, 0.569894894894895, 0.569894894894895, 0.569894894894895, 0.569894894894895, 0.569894894894895, 0.569894894894895, 0.569894894894895, 0.569894894894895, 0.569894894894895, 0.569894894894895, 0.569894894894895, 0.569894894894895, 0.569894894894895, 0.569894894894895, 0.569894894894895, 0.569894894894895, 0.569894894894895]}], \"recall_score_weighted\": [{\"categories\": [\"0\", \"1\", \"2\", \"3\", \"4\", \"5\", \"6\", \"7\", \"8\", \"9\", \"10\", \"11\", \"12\", \"13\", \"14\", \"15\", \"16\", \"17\", \"18\", \"19\", \"20\", \"21\", \"22\", \"23\", \"24\", \"25\", \"26\", \"27\", \"28\"], \"mode\": \"markers\", \"name\": \"recall_score_weighted\", \"stepped\": false, \"type\": \"scatter\", \"data\": [0.9127627627627628, 0.93993993993994, 0.9345345345345345, 0.9345345345345345, 0.9345345345345345, 0.9345345345345345, 0.9345345345345345, 0.9345345345345345, 0.8911411411411411, 0.7659159159159159, 0.8204204204204204, 0.9345345345345345, 0.88003003003003, 0.9345345345345345, 0.93993993993994, 0.9345345345345345, 0.8253753753753754, 0.9345345345345345, 0.9345345345345345, 0.9183183183183183, 0.8258258258258258, 0.9345345345345345, 0.8963963963963962, 0.841891891891892, 0.9345345345345345, 0.9345345345345345, 0.9345345345345345, 0.9345345345345345, 0.9345345345345345]}, {\"categories\": [\"0\", \"1\", \"2\", \"3\", \"4\", \"5\", \"6\", \"7\", \"8\", \"9\", \"10\", \"11\", \"12\", \"13\", \"14\", \"15\", \"16\", \"17\", \"18\", \"19\", \"20\", \"21\", \"22\", \"23\", \"24\", \"25\", \"26\", \"27\", \"28\"], \"mode\": \"lines\", \"name\": \"recall_score_weighted_max\", \"stepped\": true, \"type\": \"scatter\", \"data\": [0.9127627627627628, 0.93993993993994, 0.93993993993994, 0.93993993993994, 0.93993993993994, 0.93993993993994, 0.93993993993994, 0.93993993993994, 0.93993993993994, 0.93993993993994, 0.93993993993994, 0.93993993993994, 0.93993993993994, 0.93993993993994, 0.93993993993994, 0.93993993993994, 0.93993993993994, 0.93993993993994, 0.93993993993994, 0.93993993993994, 0.93993993993994, 0.93993993993994, 0.93993993993994, 0.93993993993994, 0.93993993993994, 0.93993993993994, 0.93993993993994, 0.93993993993994, 0.93993993993994]}], \"weighted_accuracy\": [{\"categories\": [\"0\", \"1\", \"2\", \"3\", \"4\", \"5\", \"6\", \"7\", \"8\", \"9\", \"10\", \"11\", \"12\", \"13\", \"14\", \"15\", \"16\", \"17\", \"18\", \"19\", \"20\", \"21\", \"22\", \"23\", \"24\", \"25\", \"26\", \"27\", \"28\"], \"mode\": \"markers\", \"name\": \"weighted_accuracy\", \"stepped\": false, \"type\": \"scatter\", \"data\": [0.9712172451905096, 0.9947819269852604, 0.9944564591252115, 0.9944564591252115, 0.9944564591252115, 0.9944564591252115, 0.9944564591252115, 0.9944564591252115, 0.9475871610647506, 0.7978053949986469, 0.867264998029922, 0.9944564591252115, 0.935866607306917, 0.9944564591252115, 0.9947819269852604, 0.9944564591252115, 0.8788728423423346, 0.9944564591252115, 0.9944564591252115, 0.9769457295114776, 0.8726593814151125, 0.9944564591252115, 0.9536925783315452, 0.8904574779492798, 0.9944564591252115, 0.9944564591252115, 0.9944564591252115, 0.9944564591252115, 0.9944564591252115]}, {\"categories\": [\"0\", \"1\", \"2\", \"3\", \"4\", \"5\", \"6\", \"7\", \"8\", \"9\", \"10\", \"11\", \"12\", \"13\", \"14\", \"15\", \"16\", \"17\", \"18\", \"19\", \"20\", \"21\", \"22\", \"23\", \"24\", \"25\", \"26\", \"27\", \"28\"], \"mode\": \"lines\", \"name\": \"weighted_accuracy_max\", \"stepped\": true, \"type\": \"scatter\", \"data\": [0.9712172451905096, 0.9947819269852604, 0.9947819269852604, 0.9947819269852604, 0.9947819269852604, 0.9947819269852604, 0.9947819269852604, 0.9947819269852604, 0.9947819269852604, 0.9947819269852604, 0.9947819269852604, 0.9947819269852604, 0.9947819269852604, 0.9947819269852604, 0.9947819269852604, 0.9947819269852604, 0.9947819269852604, 0.9947819269852604, 0.9947819269852604, 0.9947819269852604, 0.9947819269852604, 0.9947819269852604, 0.9947819269852604, 0.9947819269852604, 0.9947819269852604, 0.9947819269852604, 0.9947819269852604, 0.9947819269852604, 0.9947819269852604]}], \"f1_score_weighted\": [{\"categories\": [\"0\", \"1\", \"2\", \"3\", \"4\", \"5\", \"6\", \"7\", \"8\", \"9\", \"10\", \"11\", \"12\", \"13\", \"14\", \"15\", \"16\", \"17\", \"18\", \"19\", \"20\", \"21\", \"22\", \"23\", \"24\", \"25\", \"26\", \"27\", \"28\"], \"mode\": \"markers\", \"name\": \"f1_score_weighted\", \"stepped\": false, \"type\": \"scatter\", \"data\": [0.891933313358334, 0.9128364126527015, 0.9030385866576927, 0.9030385866576927, 0.9030385866576927, 0.9030385866576927, 0.9030385866576927, 0.9030385866576927, 0.8801618236382833, 0.8152134958586572, 0.8426069014226055, 0.9030385866576927, 0.874447643915522, 0.9030385866576927, 0.9128364126527015, 0.9030385866576927, 0.8435257235257236, 0.9030385866576927, 0.9030385866576927, 0.8945878824323404, 0.8454517739230221, 0.9030385866576927, 0.8834826091329819, 0.856154068563123, 0.9030385866576927, 0.9030385866576927, 0.9030385866576927, 0.9030385866576927, 0.9030385866576927]}, {\"categories\": [\"0\", \"1\", \"2\", \"3\", \"4\", \"5\", \"6\", \"7\", \"8\", \"9\", \"10\", \"11\", \"12\", \"13\", \"14\", \"15\", \"16\", \"17\", \"18\", \"19\", \"20\", \"21\", \"22\", \"23\", \"24\", \"25\", \"26\", \"27\", \"28\"], \"mode\": \"lines\", \"name\": \"f1_score_weighted_max\", \"stepped\": true, \"type\": \"scatter\", \"data\": [0.891933313358334, 0.9128364126527015, 0.9128364126527015, 0.9128364126527015, 0.9128364126527015, 0.9128364126527015, 0.9128364126527015, 0.9128364126527015, 0.9128364126527015, 0.9128364126527015, 0.9128364126527015, 0.9128364126527015, 0.9128364126527015, 0.9128364126527015, 0.9128364126527015, 0.9128364126527015, 0.9128364126527015, 0.9128364126527015, 0.9128364126527015, 0.9128364126527015, 0.9128364126527015, 0.9128364126527015, 0.9128364126527015, 0.9128364126527015, 0.9128364126527015, 0.9128364126527015, 0.9128364126527015, 0.9128364126527015, 0.9128364126527015]}], \"log_loss\": [{\"categories\": [\"0\", \"1\", \"2\", \"3\", \"4\", \"5\", \"6\", \"7\", \"8\", \"9\", \"10\", \"11\", \"12\", \"13\", \"14\", \"15\", \"16\", \"17\", \"18\", \"19\", \"20\", \"21\", \"22\", \"23\", \"24\", \"25\", \"26\", \"27\", \"28\"], \"mode\": \"markers\", \"name\": \"log_loss\", \"stepped\": false, \"type\": \"scatter\", \"data\": [0.3918783415013479, 0.3046818514708109, 0.2788410276287262, 0.5860535678376055, 0.26756731423318936, 0.7880318074420422, 0.43627392597988013, 1.7948740514837909, 0.5412301874870102, 0.5773052715524878, 0.47943796302707337, 0.28061343157247914, 0.5745102969841336, 0.4500446685234726, 0.2947297822522068, 0.3559607796694285, 0.7853597694270125, 0.76970196194766, 0.6087551261906788, 0.3977983889979203, 0.46602680997200085, 0.24382589998306337, 0.3976020936172787, 0.4876603601810756, 0.24382589998306337, 0.2558123521757892, 0.3535054769709509, 0.3745710725127346, 0.2674695304216931]}, {\"categories\": [\"0\", \"1\", \"2\", \"3\", \"4\", \"5\", \"6\", \"7\", \"8\", \"9\", \"10\", \"11\", \"12\", \"13\", \"14\", \"15\", \"16\", \"17\", \"18\", \"19\", \"20\", \"21\", \"22\", \"23\", \"24\", \"25\", \"26\", \"27\", \"28\"], \"mode\": \"lines\", \"name\": \"log_loss_min\", \"stepped\": true, \"type\": \"scatter\", \"data\": [0.3918783415013479, 0.3046818514708109, 0.2788410276287262, 0.2788410276287262, 0.26756731423318936, 0.26756731423318936, 0.26756731423318936, 0.26756731423318936, 0.26756731423318936, 0.26756731423318936, 0.26756731423318936, 0.26756731423318936, 0.26756731423318936, 0.26756731423318936, 0.26756731423318936, 0.26756731423318936, 0.26756731423318936, 0.26756731423318936, 0.26756731423318936, 0.26756731423318936, 0.26756731423318936, 0.24382589998306337, 0.24382589998306337, 0.24382589998306337, 0.24382589998306337, 0.24382589998306337, 0.24382589998306337, 0.24382589998306337, 0.24382589998306337]}], \"recall_score_macro\": [{\"categories\": [\"0\", \"1\", \"2\", \"3\", \"4\", \"5\", \"6\", \"7\", \"8\", \"9\", \"10\", \"11\", \"12\", \"13\", \"14\", \"15\", \"16\", \"17\", \"18\", \"19\", \"20\", \"21\", \"22\", \"23\", \"24\", \"25\", \"26\", \"27\", \"28\"], \"mode\": \"markers\", \"name\": \"recall_score_macro\", \"stepped\": false, \"type\": \"scatter\", \"data\": [0.48831423478482305, 0.55, 0.5, 0.5, 0.5, 0.5, 0.5, 0.5, 0.4763814616755793, 0.5838961038961038, 0.48587216704863767, 0.5, 0.47049401578813344, 0.5, 0.55, 0.5, 0.4419276801629743, 0.5, 0.5, 0.4911764705882353, 0.48855614973262035, 0.5, 0.47949070537305827, 0.4975528393175452, 0.5, 0.5, 0.5, 0.5, 0.5]}, {\"categories\": [\"0\", \"1\", \"2\", \"3\", \"4\", \"5\", \"6\", \"7\", \"8\", \"9\", \"10\", \"11\", \"12\", \"13\", \"14\", \"15\", \"16\", \"17\", \"18\", \"19\", \"20\", \"21\", \"22\", \"23\", \"24\", \"25\", \"26\", \"27\", \"28\"], \"mode\": \"lines\", \"name\": \"recall_score_macro_max\", \"stepped\": true, \"type\": \"scatter\", \"data\": [0.48831423478482305, 0.55, 0.55, 0.55, 0.55, 0.55, 0.55, 0.55, 0.55, 0.5838961038961038, 0.5838961038961038, 0.5838961038961038, 0.5838961038961038, 0.5838961038961038, 0.5838961038961038, 0.5838961038961038, 0.5838961038961038, 0.5838961038961038, 0.5838961038961038, 0.5838961038961038, 0.5838961038961038, 0.5838961038961038, 0.5838961038961038, 0.5838961038961038, 0.5838961038961038, 0.5838961038961038, 0.5838961038961038, 0.5838961038961038, 0.5838961038961038]}], \"average_precision_score_macro\": [{\"categories\": [\"0\", \"1\", \"2\", \"3\", \"4\", \"5\", \"6\", \"7\", \"8\", \"9\", \"10\", \"11\", \"12\", \"13\", \"14\", \"15\", \"16\", \"17\", \"18\", \"19\", \"20\", \"21\", \"22\", \"23\", \"24\", \"25\", \"26\", \"27\", \"28\"], \"mode\": \"markers\", \"name\": \"average_precision_score_macro\", \"stepped\": false, \"type\": \"scatter\", \"data\": [0.5997140693442844, 0.5625192596191485, 0.5429203396410143, 0.5644110593422087, 0.5506878579200919, 0.5551666565372049, 0.5474524211815197, 0.5100105074364585, 0.5140708040893267, 0.5562072724321961, 0.521333986957581, 0.5642647682257644, 0.505653342905952, 0.5885842439709218, 0.5767626555978768, 0.5788532825376087, 0.5054429686438093, 0.5573133870958026, 0.5158553054584298, 0.5552101131952616, 0.5296705024473483, 0.5, 0.49513218089212874, 0.522249604896666, 0.5, 0.5134924154647436, 0.5439666035131966, 0.5386527668065586, 0.5925467764128076]}, {\"categories\": [\"0\", \"1\", \"2\", \"3\", \"4\", \"5\", \"6\", \"7\", \"8\", \"9\", \"10\", \"11\", \"12\", \"13\", \"14\", \"15\", \"16\", \"17\", \"18\", \"19\", \"20\", \"21\", \"22\", \"23\", \"24\", \"25\", \"26\", \"27\", \"28\"], \"mode\": \"lines\", \"name\": \"average_precision_score_macro_max\", \"stepped\": true, \"type\": \"scatter\", \"data\": [0.5997140693442844, 0.5997140693442844, 0.5997140693442844, 0.5997140693442844, 0.5997140693442844, 0.5997140693442844, 0.5997140693442844, 0.5997140693442844, 0.5997140693442844, 0.5997140693442844, 0.5997140693442844, 0.5997140693442844, 0.5997140693442844, 0.5997140693442844, 0.5997140693442844, 0.5997140693442844, 0.5997140693442844, 0.5997140693442844, 0.5997140693442844, 0.5997140693442844, 0.5997140693442844, 0.5997140693442844, 0.5997140693442844, 0.5997140693442844, 0.5997140693442844, 0.5997140693442844, 0.5997140693442844, 0.5997140693442844, 0.5997140693442844]}], \"precision_score_weighted\": [{\"categories\": [\"0\", \"1\", \"2\", \"3\", \"4\", \"5\", \"6\", \"7\", \"8\", \"9\", \"10\", \"11\", \"12\", \"13\", \"14\", \"15\", \"16\", \"17\", \"18\", \"19\", \"20\", \"21\", \"22\", \"23\", \"24\", \"25\", \"26\", \"27\", \"28\"], \"mode\": \"markers\", \"name\": \"precision_score_weighted\", \"stepped\": false, \"type\": \"scatter\", \"data\": [0.8723915002518605, 0.8896083019956894, 0.8738263037812587, 0.8738263037812587, 0.8738263037812587, 0.8738263037812587, 0.8738263037812587, 0.8738263037812587, 0.8702099461108469, 0.8819424103906863, 0.8722383641247738, 0.8738263037812587, 0.8695934402492431, 0.8738263037812587, 0.8896083019956894, 0.8738263037812587, 0.8665453249936009, 0.8738263037812587, 0.8738263037812587, 0.8725114754394033, 0.8721063921063921, 0.8738263037812587, 0.8712226512226511, 0.8746263095693836, 0.8738263037812587, 0.8738263037812587, 0.8738263037812587, 0.8738263037812587, 0.8738263037812587]}, {\"categories\": [\"0\", \"1\", \"2\", \"3\", \"4\", \"5\", \"6\", \"7\", \"8\", \"9\", \"10\", \"11\", \"12\", \"13\", \"14\", \"15\", \"16\", \"17\", \"18\", \"19\", \"20\", \"21\", \"22\", \"23\", \"24\", \"25\", \"26\", \"27\", \"28\"], \"mode\": \"lines\", \"name\": \"precision_score_weighted_max\", \"stepped\": true, \"type\": \"scatter\", \"data\": [0.8723915002518605, 0.8896083019956894, 0.8896083019956894, 0.8896083019956894, 0.8896083019956894, 0.8896083019956894, 0.8896083019956894, 0.8896083019956894, 0.8896083019956894, 0.8896083019956894, 0.8896083019956894, 0.8896083019956894, 0.8896083019956894, 0.8896083019956894, 0.8896083019956894, 0.8896083019956894, 0.8896083019956894, 0.8896083019956894, 0.8896083019956894, 0.8896083019956894, 0.8896083019956894, 0.8896083019956894, 0.8896083019956894, 0.8896083019956894, 0.8896083019956894, 0.8896083019956894, 0.8896083019956894, 0.8896083019956894, 0.8896083019956894]}], \"recall_score_micro\": [{\"categories\": [\"0\", \"1\", \"2\", \"3\", \"4\", \"5\", \"6\", \"7\", \"8\", \"9\", \"10\", \"11\", \"12\", \"13\", \"14\", \"15\", \"16\", \"17\", \"18\", \"19\", \"20\", \"21\", \"22\", \"23\", \"24\", \"25\", \"26\", \"27\", \"28\"], \"mode\": \"markers\", \"name\": \"recall_score_micro\", \"stepped\": false, \"type\": \"scatter\", \"data\": [0.9127627627627628, 0.93993993993994, 0.9345345345345345, 0.9345345345345345, 0.9345345345345345, 0.9345345345345345, 0.9345345345345345, 0.9345345345345345, 0.8911411411411411, 0.7659159159159159, 0.8204204204204204, 0.9345345345345345, 0.88003003003003, 0.9345345345345345, 0.93993993993994, 0.9345345345345345, 0.8253753753753752, 0.9345345345345345, 0.9345345345345345, 0.9183183183183183, 0.8258258258258258, 0.9345345345345345, 0.8963963963963962, 0.841891891891892, 0.9345345345345345, 0.9345345345345345, 0.9345345345345345, 0.9345345345345345, 0.9345345345345345]}, {\"categories\": [\"0\", \"1\", \"2\", \"3\", \"4\", \"5\", \"6\", \"7\", \"8\", \"9\", \"10\", \"11\", \"12\", \"13\", \"14\", \"15\", \"16\", \"17\", \"18\", \"19\", \"20\", \"21\", \"22\", \"23\", \"24\", \"25\", \"26\", \"27\", \"28\"], \"mode\": \"lines\", \"name\": \"recall_score_micro_max\", \"stepped\": true, \"type\": \"scatter\", \"data\": [0.9127627627627628, 0.93993993993994, 0.93993993993994, 0.93993993993994, 0.93993993993994, 0.93993993993994, 0.93993993993994, 0.93993993993994, 0.93993993993994, 0.93993993993994, 0.93993993993994, 0.93993993993994, 0.93993993993994, 0.93993993993994, 0.93993993993994, 0.93993993993994, 0.93993993993994, 0.93993993993994, 0.93993993993994, 0.93993993993994, 0.93993993993994, 0.93993993993994, 0.93993993993994, 0.93993993993994, 0.93993993993994, 0.93993993993994, 0.93993993993994, 0.93993993993994, 0.93993993993994]}], \"accuracy\": [{\"categories\": [\"0\", \"1\", \"2\", \"3\", \"4\", \"5\", \"6\", \"7\", \"8\", \"9\", \"10\", \"11\", \"12\", \"13\", \"14\", \"15\", \"16\", \"17\", \"18\", \"19\", \"20\", \"21\", \"22\", \"23\", \"24\", \"25\", \"26\", \"27\", \"28\"], \"mode\": \"markers\", \"name\": \"accuracy\", \"stepped\": false, \"type\": \"scatter\", \"data\": [0.9127627627627628, 0.93993993993994, 0.9345345345345345, 0.9345345345345345, 0.9345345345345345, 0.9345345345345345, 0.9345345345345345, 0.9345345345345345, 0.8911411411411411, 0.7659159159159159, 0.8204204204204204, 0.9345345345345345, 0.88003003003003, 0.9345345345345345, 0.93993993993994, 0.9345345345345345, 0.8253753753753752, 0.9345345345345345, 0.9345345345345345, 0.9183183183183183, 0.8258258258258258, 0.9345345345345345, 0.8963963963963962, 0.841891891891892, 0.9345345345345345, 0.9345345345345345, 0.9345345345345345, 0.9345345345345345, 0.9345345345345345]}, {\"categories\": [\"0\", \"1\", \"2\", \"3\", \"4\", \"5\", \"6\", \"7\", \"8\", \"9\", \"10\", \"11\", \"12\", \"13\", \"14\", \"15\", \"16\", \"17\", \"18\", \"19\", \"20\", \"21\", \"22\", \"23\", \"24\", \"25\", \"26\", \"27\", \"28\"], \"mode\": \"lines\", \"name\": \"accuracy_max\", \"stepped\": true, \"type\": \"scatter\", \"data\": [0.9127627627627628, 0.93993993993994, 0.93993993993994, 0.93993993993994, 0.93993993993994, 0.93993993993994, 0.93993993993994, 0.93993993993994, 0.93993993993994, 0.93993993993994, 0.93993993993994, 0.93993993993994, 0.93993993993994, 0.93993993993994, 0.93993993993994, 0.93993993993994, 0.93993993993994, 0.93993993993994, 0.93993993993994, 0.93993993993994, 0.93993993993994, 0.93993993993994, 0.93993993993994, 0.93993993993994, 0.93993993993994, 0.93993993993994, 0.93993993993994, 0.93993993993994, 0.93993993993994]}], \"AUC_weighted\": [{\"categories\": [\"0\", \"1\", \"2\", \"3\", \"4\", \"5\", \"6\", \"7\", \"8\", \"9\", \"10\", \"11\", \"12\", \"13\", \"14\", \"15\", \"16\", \"17\", \"18\", \"19\", \"20\", \"21\", \"22\", \"23\", \"24\", \"25\", \"26\", \"27\", \"28\"], \"mode\": \"markers\", \"name\": \"AUC_weighted\", \"stepped\": false, \"type\": \"scatter\", \"data\": [0.6048535777947542, 0.503526016467193, 0.5755368814192343, 0.632602495543672, 0.5859434682964094, 0.599737713267125, 0.577368644427468, 0.3532874968169085, 0.48567523979288685, 0.5318258212375859, 0.47529751294457173, 0.5712825736355148, 0.4396553773024362, 0.5925753331635685, 0.604626092861387, 0.6136287242169596, 0.45125710890416776, 0.5591520244461422, 0.4848051948051949, 0.5379848909260675, 0.5421831763008234, 0.5, 0.39023851965028433, 0.5093048128342246, 0.5, 0.4130252100840336, 0.6166590272472626, 0.6146269416857651, 0.6228622358034122]}, {\"categories\": [\"0\", \"1\", \"2\", \"3\", \"4\", \"5\", \"6\", \"7\", \"8\", \"9\", \"10\", \"11\", \"12\", \"13\", \"14\", \"15\", \"16\", \"17\", \"18\", \"19\", \"20\", \"21\", \"22\", \"23\", \"24\", \"25\", \"26\", \"27\", \"28\"], \"mode\": \"lines\", \"name\": \"AUC_weighted_max\", \"stepped\": true, \"type\": \"scatter\", \"data\": [0.6048535777947542, 0.6048535777947542, 0.6048535777947542, 0.632602495543672, 0.632602495543672, 0.632602495543672, 0.632602495543672, 0.632602495543672, 0.632602495543672, 0.632602495543672, 0.632602495543672, 0.632602495543672, 0.632602495543672, 0.632602495543672, 0.632602495543672, 0.632602495543672, 0.632602495543672, 0.632602495543672, 0.632602495543672, 0.632602495543672, 0.632602495543672, 0.632602495543672, 0.632602495543672, 0.632602495543672, 0.632602495543672, 0.632602495543672, 0.632602495543672, 0.632602495543672, 0.632602495543672]}], \"AUC_micro\": [{\"categories\": [\"0\", \"1\", \"2\", \"3\", \"4\", \"5\", \"6\", \"7\", \"8\", \"9\", \"10\", \"11\", \"12\", \"13\", \"14\", \"15\", \"16\", \"17\", \"18\", \"19\", \"20\", \"21\", \"22\", \"23\", \"24\", \"25\", \"26\", \"27\", \"28\"], \"mode\": \"markers\", \"name\": \"AUC_micro\", \"stepped\": false, \"type\": \"scatter\", \"data\": [0.9385181352523695, 0.9264171829487144, 0.935155876597318, 0.9435324964604245, 0.9380118857596337, 0.9378164200236272, 0.939098332566801, 0.9184954098242386, 0.9111186637087538, 0.8292022878734591, 0.8684290146001858, 0.9349130662193726, 0.9082297387477567, 0.9369727835944053, 0.9414378342306271, 0.9435922408895383, 0.8847810648486323, 0.9408391499607717, 0.9304130707283861, 0.9273636248861475, 0.8951390579768959, 0.9345345345345345, 0.8999972945918893, 0.8867542091641191, 0.9345345345345345, 0.9260591672753836, 0.9437794776758741, 0.9429625571517464, 0.9429790150510872]}, {\"categories\": [\"0\", \"1\", \"2\", \"3\", \"4\", \"5\", \"6\", \"7\", \"8\", \"9\", \"10\", \"11\", \"12\", \"13\", \"14\", \"15\", \"16\", \"17\", \"18\", \"19\", \"20\", \"21\", \"22\", \"23\", \"24\", \"25\", \"26\", \"27\", \"28\"], \"mode\": \"lines\", \"name\": \"AUC_micro_max\", \"stepped\": true, \"type\": \"scatter\", \"data\": [0.9385181352523695, 0.9385181352523695, 0.9385181352523695, 0.9435324964604245, 0.9435324964604245, 0.9435324964604245, 0.9435324964604245, 0.9435324964604245, 0.9435324964604245, 0.9435324964604245, 0.9435324964604245, 0.9435324964604245, 0.9435324964604245, 0.9435324964604245, 0.9435324964604245, 0.9435922408895383, 0.9435922408895383, 0.9435922408895383, 0.9435922408895383, 0.9435922408895383, 0.9435922408895383, 0.9435922408895383, 0.9435922408895383, 0.9435922408895383, 0.9435922408895383, 0.9435922408895383, 0.9437794776758741, 0.9437794776758741, 0.9437794776758741]}], \"precision_score_micro\": [{\"categories\": [\"0\", \"1\", \"2\", \"3\", \"4\", \"5\", \"6\", \"7\", \"8\", \"9\", \"10\", \"11\", \"12\", \"13\", \"14\", \"15\", \"16\", \"17\", \"18\", \"19\", \"20\", \"21\", \"22\", \"23\", \"24\", \"25\", \"26\", \"27\", \"28\"], \"mode\": \"markers\", \"name\": \"precision_score_micro\", \"stepped\": false, \"type\": \"scatter\", \"data\": [0.9127627627627628, 0.93993993993994, 0.9345345345345345, 0.9345345345345345, 0.9345345345345345, 0.9345345345345345, 0.9345345345345345, 0.9345345345345345, 0.8911411411411411, 0.7659159159159159, 0.8204204204204204, 0.9345345345345345, 0.88003003003003, 0.9345345345345345, 0.93993993993994, 0.9345345345345345, 0.8253753753753752, 0.9345345345345345, 0.9345345345345345, 0.9183183183183183, 0.8258258258258258, 0.9345345345345345, 0.8963963963963962, 0.841891891891892, 0.9345345345345345, 0.9345345345345345, 0.9345345345345345, 0.9345345345345345, 0.9345345345345345]}, {\"categories\": [\"0\", \"1\", \"2\", \"3\", \"4\", \"5\", \"6\", \"7\", \"8\", \"9\", \"10\", \"11\", \"12\", \"13\", \"14\", \"15\", \"16\", \"17\", \"18\", \"19\", \"20\", \"21\", \"22\", \"23\", \"24\", \"25\", \"26\", \"27\", \"28\"], \"mode\": \"lines\", \"name\": \"precision_score_micro_max\", \"stepped\": true, \"type\": \"scatter\", \"data\": [0.9127627627627628, 0.93993993993994, 0.93993993993994, 0.93993993993994, 0.93993993993994, 0.93993993993994, 0.93993993993994, 0.93993993993994, 0.93993993993994, 0.93993993993994, 0.93993993993994, 0.93993993993994, 0.93993993993994, 0.93993993993994, 0.93993993993994, 0.93993993993994, 0.93993993993994, 0.93993993993994, 0.93993993993994, 0.93993993993994, 0.93993993993994, 0.93993993993994, 0.93993993993994, 0.93993993993994, 0.93993993993994, 0.93993993993994, 0.93993993993994, 0.93993993993994, 0.93993993993994]}], \"f1_score_macro\": [{\"categories\": [\"0\", \"1\", \"2\", \"3\", \"4\", \"5\", \"6\", \"7\", \"8\", \"9\", \"10\", \"11\", \"12\", \"13\", \"14\", \"15\", \"16\", \"17\", \"18\", \"19\", \"20\", \"21\", \"22\", \"23\", \"24\", \"25\", \"26\", \"27\", \"28\"], \"mode\": \"markers\", \"name\": \"f1_score_macro\", \"stepped\": false, \"type\": \"scatter\", \"data\": [0.4770552728133507, 0.5510512349459072, 0.4830152412056883, 0.4830152412056883, 0.4830152412056883, 0.4830152412056883, 0.4830152412056883, 0.4830152412056883, 0.47056382964401405, 0.5054647861099474, 0.4694056404737972, 0.4830152412056883, 0.4675348038651089, 0.4830152412056883, 0.5510512349459072, 0.4830152412056883, 0.4513502837032249, 0.4830152412056883, 0.4830152412056883, 0.4784170639065996, 0.4729037239836679, 0.4830152412056883, 0.47249733696295426, 0.4814715207430022, 0.4830152412056883, 0.4830152412056883, 0.4830152412056883, 0.4830152412056883, 0.4830152412056883]}, {\"categories\": [\"0\", \"1\", \"2\", \"3\", \"4\", \"5\", \"6\", \"7\", \"8\", \"9\", \"10\", \"11\", \"12\", \"13\", \"14\", \"15\", \"16\", \"17\", \"18\", \"19\", \"20\", \"21\", \"22\", \"23\", \"24\", \"25\", \"26\", \"27\", \"28\"], \"mode\": \"lines\", \"name\": \"f1_score_macro_max\", \"stepped\": true, \"type\": \"scatter\", \"data\": [0.4770552728133507, 0.5510512349459072, 0.5510512349459072, 0.5510512349459072, 0.5510512349459072, 0.5510512349459072, 0.5510512349459072, 0.5510512349459072, 0.5510512349459072, 0.5510512349459072, 0.5510512349459072, 0.5510512349459072, 0.5510512349459072, 0.5510512349459072, 0.5510512349459072, 0.5510512349459072, 0.5510512349459072, 0.5510512349459072, 0.5510512349459072, 0.5510512349459072, 0.5510512349459072, 0.5510512349459072, 0.5510512349459072, 0.5510512349459072, 0.5510512349459072, 0.5510512349459072, 0.5510512349459072, 0.5510512349459072, 0.5510512349459072]}], \"average_precision_score_micro\": [{\"categories\": [\"0\", \"1\", \"2\", \"3\", \"4\", \"5\", \"6\", \"7\", \"8\", \"9\", \"10\", \"11\", \"12\", \"13\", \"14\", \"15\", \"16\", \"17\", \"18\", \"19\", \"20\", \"21\", \"22\", \"23\", \"24\", \"25\", \"26\", \"27\", \"28\"], \"mode\": \"markers\", \"name\": \"average_precision_score_micro\", \"stepped\": false, \"type\": \"scatter\", \"data\": [0.9304583988555576, 0.9173348750350175, 0.9118326880883505, 0.9266177563218824, 0.9255694366994103, 0.9214562220078182, 0.9297466349073433, 0.8894627151429854, 0.8993832842367249, 0.8191282803511533, 0.8555935210794365, 0.9151934622285045, 0.8824349338770286, 0.9144606293561772, 0.9335201572143743, 0.9251421574613856, 0.8702149643228532, 0.9235965634453983, 0.908647296200054, 0.9059295015696633, 0.8904055637734543, 0.9065590365139915, 0.8651110423374423, 0.8750014409989211, 0.9065590365139915, 0.9096403335219669, 0.9257541901690599, 0.9246393603605643, 0.9374580811048959]}, {\"categories\": [\"0\", \"1\", \"2\", \"3\", \"4\", \"5\", \"6\", \"7\", \"8\", \"9\", \"10\", \"11\", \"12\", \"13\", \"14\", \"15\", \"16\", \"17\", \"18\", \"19\", \"20\", \"21\", \"22\", \"23\", \"24\", \"25\", \"26\", \"27\", \"28\"], \"mode\": \"lines\", \"name\": \"average_precision_score_micro_max\", \"stepped\": true, \"type\": \"scatter\", \"data\": [0.9304583988555576, 0.9304583988555576, 0.9304583988555576, 0.9304583988555576, 0.9304583988555576, 0.9304583988555576, 0.9304583988555576, 0.9304583988555576, 0.9304583988555576, 0.9304583988555576, 0.9304583988555576, 0.9304583988555576, 0.9304583988555576, 0.9304583988555576, 0.9335201572143743, 0.9335201572143743, 0.9335201572143743, 0.9335201572143743, 0.9335201572143743, 0.9335201572143743, 0.9335201572143743, 0.9335201572143743, 0.9335201572143743, 0.9335201572143743, 0.9335201572143743, 0.9335201572143743, 0.9335201572143743, 0.9335201572143743, 0.9374580811048959]}], \"average_precision_score_weighted\": [{\"categories\": [\"0\", \"1\", \"2\", \"3\", \"4\", \"5\", \"6\", \"7\", \"8\", \"9\", \"10\", \"11\", \"12\", \"13\", \"14\", \"15\", \"16\", \"17\", \"18\", \"19\", \"20\", \"21\", \"22\", \"23\", \"24\", \"25\", \"26\", \"27\", \"28\"], \"mode\": \"markers\", \"name\": \"average_precision_score_weighted\", \"stepped\": false, \"type\": \"scatter\", \"data\": [0.9005922928114609, 0.885991109246714, 0.8763953970441347, 0.8908589322931197, 0.8899278888041054, 0.8870889687184084, 0.8945172311535412, 0.8590402156866472, 0.8762651805756695, 0.8722598219404795, 0.8725660119655856, 0.8807101620051249, 0.8565862306891383, 0.8830674561066376, 0.9003580960195394, 0.896046932120335, 0.8662669418592099, 0.8912595347114107, 0.8732217159186266, 0.8734165452862506, 0.8843583566794229, 0.8785835384934483, 0.8533781559129132, 0.8735613005863503, 0.8785835384934483, 0.8775412691921813, 0.8927254048820601, 0.8911822109005059, 0.906088927457031]}, {\"categories\": [\"0\", \"1\", \"2\", \"3\", \"4\", \"5\", \"6\", \"7\", \"8\", \"9\", \"10\", \"11\", \"12\", \"13\", \"14\", \"15\", \"16\", \"17\", \"18\", \"19\", \"20\", \"21\", \"22\", \"23\", \"24\", \"25\", \"26\", \"27\", \"28\"], \"mode\": \"lines\", \"name\": \"average_precision_score_weighted_max\", \"stepped\": true, \"type\": \"scatter\", \"data\": [0.9005922928114609, 0.9005922928114609, 0.9005922928114609, 0.9005922928114609, 0.9005922928114609, 0.9005922928114609, 0.9005922928114609, 0.9005922928114609, 0.9005922928114609, 0.9005922928114609, 0.9005922928114609, 0.9005922928114609, 0.9005922928114609, 0.9005922928114609, 0.9005922928114609, 0.9005922928114609, 0.9005922928114609, 0.9005922928114609, 0.9005922928114609, 0.9005922928114609, 0.9005922928114609, 0.9005922928114609, 0.9005922928114609, 0.9005922928114609, 0.9005922928114609, 0.9005922928114609, 0.9005922928114609, 0.9005922928114609, 0.906088927457031]}], \"matthews_correlation\": [{\"categories\": [\"0\", \"1\", \"2\", \"3\", \"4\", \"5\", \"6\", \"7\", \"8\", \"9\", \"10\", \"11\", \"12\", \"13\", \"14\", \"15\", \"16\", \"17\", \"18\", \"19\", \"20\", \"21\", \"22\", \"23\", \"24\", \"25\", \"26\", \"27\", \"28\"], \"mode\": \"markers\", \"name\": \"matthews_correlation\", \"stepped\": false, \"type\": \"scatter\", \"data\": [-0.031522990687090684, 0.13944333775567927, 0.0, 0.0, 0.0, 0.0, 0.0, 0.0, -0.04787778679438014, 0.07487105148502249, -0.03871711289236744, 0.0, -0.05802457716245596, 0.0, 0.13944333775567927, 0.0, -0.08306106379995855, 0.0, 0.0, -0.01764705882352941, -0.033839028884721976, 0.0, -0.05142395452523034, -0.021337028035903337, 0.0, 0.0, 0.0, 0.0, 0.0]}, {\"categories\": [\"0\", \"1\", \"2\", \"3\", \"4\", \"5\", \"6\", \"7\", \"8\", \"9\", \"10\", \"11\", \"12\", \"13\", \"14\", \"15\", \"16\", \"17\", \"18\", \"19\", \"20\", \"21\", \"22\", \"23\", \"24\", \"25\", \"26\", \"27\", \"28\"], \"mode\": \"lines\", \"name\": \"matthews_correlation_max\", \"stepped\": true, \"type\": \"scatter\", \"data\": [-0.031522990687090684, 0.13944333775567927, 0.13944333775567927, 0.13944333775567927, 0.13944333775567927, 0.13944333775567927, 0.13944333775567927, 0.13944333775567927, 0.13944333775567927, 0.13944333775567927, 0.13944333775567927, 0.13944333775567927, 0.13944333775567927, 0.13944333775567927, 0.13944333775567927, 0.13944333775567927, 0.13944333775567927, 0.13944333775567927, 0.13944333775567927, 0.13944333775567927, 0.13944333775567927, 0.13944333775567927, 0.13944333775567927, 0.13944333775567927, 0.13944333775567927, 0.13944333775567927, 0.13944333775567927, 0.13944333775567927, 0.13944333775567927]}], \"AUC_macro\": [{\"categories\": [\"0\", \"1\", \"2\", \"3\", \"4\", \"5\", \"6\", \"7\", \"8\", \"9\", \"10\", \"11\", \"12\", \"13\", \"14\", \"15\", \"16\", \"17\", \"18\", \"19\", \"20\", \"21\", \"22\", \"23\", \"24\", \"25\", \"26\", \"27\", \"28\"], \"mode\": \"markers\", \"name\": \"AUC_macro\", \"stepped\": false, \"type\": \"scatter\", \"data\": [0.6048535777947542, 0.503526016467193, 0.5755368814192344, 0.632602495543672, 0.5859434682964094, 0.599737713267125, 0.5773686444274679, 0.3532874968169086, 0.48567523979288685, 0.5318258212375859, 0.47529751294457173, 0.5712825736355148, 0.4396553773024362, 0.5925753331635685, 0.604626092861387, 0.6136287242169596, 0.45125710890416776, 0.5591520244461422, 0.4848051948051948, 0.5379848909260675, 0.5421831763008234, 0.5, 0.39023851965028433, 0.5093048128342246, 0.5, 0.41302521008403364, 0.6166590272472626, 0.6146269416857651, 0.6228622358034123]}, {\"categories\": [\"0\", \"1\", \"2\", \"3\", \"4\", \"5\", \"6\", \"7\", \"8\", \"9\", \"10\", \"11\", \"12\", \"13\", \"14\", \"15\", \"16\", \"17\", \"18\", \"19\", \"20\", \"21\", \"22\", \"23\", \"24\", \"25\", \"26\", \"27\", \"28\"], \"mode\": \"lines\", \"name\": \"AUC_macro_max\", \"stepped\": true, \"type\": \"scatter\", \"data\": [0.6048535777947542, 0.6048535777947542, 0.6048535777947542, 0.632602495543672, 0.632602495543672, 0.632602495543672, 0.632602495543672, 0.632602495543672, 0.632602495543672, 0.632602495543672, 0.632602495543672, 0.632602495543672, 0.632602495543672, 0.632602495543672, 0.632602495543672, 0.632602495543672, 0.632602495543672, 0.632602495543672, 0.632602495543672, 0.632602495543672, 0.632602495543672, 0.632602495543672, 0.632602495543672, 0.632602495543672, 0.632602495543672, 0.632602495543672, 0.632602495543672, 0.632602495543672, 0.632602495543672]}]}, \"metricName\": null, \"primaryMetricName\": \"average_precision_score_weighted\", \"showLegend\": false}, \"run_metrics\": [{\"name\": \"experiment_status\", \"run_id\": \"AutoML_036c5960-9124-4360-b32c-e1c6a0dca31a\", \"categories\": [0, 1, 2, 3, 4, 5, 6, 7, 8, 9, 10, 11, 12, 13, 14], \"series\": [{\"data\": [\"DatasetEvaluation\", \"FeaturesGeneration\", \"DatasetFeaturization\", \"DatasetFeaturizationCompleted\", \"DatasetBalancing\", \"DatasetCrossValidationSplit\", \"ModelSelection\", \"BestRunExplainModel\", \"ModelExplanationDataSetSetup\", \"PickSurrogateModel\", \"EngineeredFeatureExplanations\", \"EngineeredFeatureExplanations\", \"RawFeaturesExplanations\", \"RawFeaturesExplanations\", \"BestRunExplainModel\"]}]}, {\"name\": \"experiment_status_description\", \"run_id\": \"AutoML_036c5960-9124-4360-b32c-e1c6a0dca31a\", \"categories\": [0, 1, 2, 3, 4, 5, 6, 7, 8, 9, 10, 11, 12, 13, 14], \"series\": [{\"data\": [\"Gathering dataset statistics.\", \"Generating features for the dataset.\", \"Beginning to fit featurizers and featurize the dataset.\", \"Completed fit featurizers and featurizing the dataset.\", \"Performing class balancing sweeping\", \"Generating individually featurized CV splits.\", \"Beginning model selection.\", \"Best run model explanations started\", \"Model explanations data setup completed\", \"Choosing LightGBM as the surrogate model for explanations\", \"Computation of engineered features started\", \"Computation of engineered features completed\", \"Computation of raw features started\", \"Computation of raw features completed\", \"Best run model explanations completed\"]}]}, {\"name\": \"precision_score_micro\", \"run_id\": \"AutoML_036c5960-9124-4360-b32c-e1c6a0dca31a\", \"categories\": [0], \"series\": [{\"data\": [0.9345345345345345]}]}, {\"name\": \"log_loss\", \"run_id\": \"AutoML_036c5960-9124-4360-b32c-e1c6a0dca31a\", \"categories\": [0], \"series\": [{\"data\": [0.2674695304216931]}]}, {\"name\": \"precision_score_macro\", \"run_id\": \"AutoML_036c5960-9124-4360-b32c-e1c6a0dca31a\", \"categories\": [0], \"series\": [{\"data\": [0.46726726726726725]}]}, {\"name\": \"AUC_micro\", \"run_id\": \"AutoML_036c5960-9124-4360-b32c-e1c6a0dca31a\", \"categories\": [0], \"series\": [{\"data\": [0.9429790150510872]}]}, {\"name\": \"AUC_macro\", \"run_id\": \"AutoML_036c5960-9124-4360-b32c-e1c6a0dca31a\", \"categories\": [0], \"series\": [{\"data\": [0.6228622358034123]}]}, {\"name\": \"f1_score_micro\", \"run_id\": \"AutoML_036c5960-9124-4360-b32c-e1c6a0dca31a\", \"categories\": [0], \"series\": [{\"data\": [0.9345345345345345]}]}, {\"name\": \"matthews_correlation\", \"run_id\": \"AutoML_036c5960-9124-4360-b32c-e1c6a0dca31a\", \"categories\": [0], \"series\": [{\"data\": [0.0]}]}, {\"name\": \"recall_score_macro\", \"run_id\": \"AutoML_036c5960-9124-4360-b32c-e1c6a0dca31a\", \"categories\": [0], \"series\": [{\"data\": [0.5]}]}, {\"name\": \"accuracy\", \"run_id\": \"AutoML_036c5960-9124-4360-b32c-e1c6a0dca31a\", \"categories\": [0], \"series\": [{\"data\": [0.9345345345345345]}]}, {\"name\": \"f1_score_weighted\", \"run_id\": \"AutoML_036c5960-9124-4360-b32c-e1c6a0dca31a\", \"categories\": [0], \"series\": [{\"data\": [0.9030385866576927]}]}, {\"name\": \"weighted_accuracy\", \"run_id\": \"AutoML_036c5960-9124-4360-b32c-e1c6a0dca31a\", \"categories\": [0], \"series\": [{\"data\": [0.9944564591252115]}]}, {\"name\": \"average_precision_score_micro\", \"run_id\": \"AutoML_036c5960-9124-4360-b32c-e1c6a0dca31a\", \"categories\": [0], \"series\": [{\"data\": [0.9374580811048959]}]}, {\"name\": \"recall_score_micro\", \"run_id\": \"AutoML_036c5960-9124-4360-b32c-e1c6a0dca31a\", \"categories\": [0], \"series\": [{\"data\": [0.9345345345345345]}]}, {\"name\": \"recall_score_weighted\", \"run_id\": \"AutoML_036c5960-9124-4360-b32c-e1c6a0dca31a\", \"categories\": [0], \"series\": [{\"data\": [0.9345345345345345]}]}, {\"name\": \"norm_macro_recall\", \"run_id\": \"AutoML_036c5960-9124-4360-b32c-e1c6a0dca31a\", \"categories\": [0], \"series\": [{\"data\": [0.0]}]}, {\"name\": \"balanced_accuracy\", \"run_id\": \"AutoML_036c5960-9124-4360-b32c-e1c6a0dca31a\", \"categories\": [0], \"series\": [{\"data\": [0.5]}]}, {\"name\": \"precision_score_weighted\", \"run_id\": \"AutoML_036c5960-9124-4360-b32c-e1c6a0dca31a\", \"categories\": [0], \"series\": [{\"data\": [0.8738263037812587]}]}, {\"name\": \"f1_score_macro\", \"run_id\": \"AutoML_036c5960-9124-4360-b32c-e1c6a0dca31a\", \"categories\": [0], \"series\": [{\"data\": [0.4830152412056883]}]}, {\"name\": \"average_precision_score_macro\", \"run_id\": \"AutoML_036c5960-9124-4360-b32c-e1c6a0dca31a\", \"categories\": [0], \"series\": [{\"data\": [0.5925467764128076]}]}, {\"name\": \"AUC_weighted\", \"run_id\": \"AutoML_036c5960-9124-4360-b32c-e1c6a0dca31a\", \"categories\": [0], \"series\": [{\"data\": [0.6228622358034122]}]}, {\"name\": \"average_precision_score_weighted\", \"run_id\": \"AutoML_036c5960-9124-4360-b32c-e1c6a0dca31a\", \"categories\": [0], \"series\": [{\"data\": [0.906088927457031]}]}], \"run_logs\": \"\\nRun is completed.\", \"graph\": {}, \"widget_settings\": {\"childWidgetDisplay\": \"popup\", \"send_telemetry\": false, \"log_level\": \"INFO\", \"sdk_version\": \"1.19.0\"}, \"loading\": false}"
     },
     "metadata": {},
     "output_type": "display_data"
    }
   ],
   "source": [
    "RunDetails(remote_run).show()"
   ]
  },
  {
   "cell_type": "markdown",
   "metadata": {},
   "source": [
    "## Best Model\n",
    "\n",
    "The best performing model is the `VotingEnsemble` with a score of 0.9006. It maybe observed to be derived from the following:\n",
    "\n",
    "|**Field**|Value|\n",
    "|-|-|\n",
    "|**Ensembled Iterations**|0, 14, 15, 6, 26|\n",
    "|**Ensembled Algorithms**|'LightGBM', 'RandomForest', 'XGBoostClassifier', 'ExtremeRandomTrees', 'XGBoostClassifier'|\n",
    "|**Ensemble Weights**|0.3333333333333333, 0.16666666666666666, 0.16666666666666666, 0.16666666666666666, 0.16666666666666666|\n",
    "|**Best Individual Pipeline Score**|\"0.9005922928114609\"|"
   ]
  },
  {
   "cell_type": "code",
   "execution_count": 15,
   "metadata": {
    "gather": {
     "logged": 1611394938727
    },
    "jupyter": {
     "outputs_hidden": false,
     "source_hidden": false
    },
    "nteract": {
     "transient": {
      "deleting": false
     }
    }
   },
   "outputs": [
    {
     "name": "stderr",
     "output_type": "stream",
     "text": [
      "WARNING:root:The version of the SDK does not match the version the model was trained on.\n",
      "WARNING:root:The consistency in the result may not be guaranteed.\n",
      "WARNING:root:Package:azureml-automl-core, training version:1.20.0, current version:1.19.0\n",
      "Package:azureml-automl-runtime, training version:1.20.0, current version:1.19.0\n",
      "Package:azureml-core, training version:1.20.0, current version:1.19.0\n",
      "Package:azureml-dataprep, training version:2.7.2, current version:2.6.1\n",
      "Package:azureml-dataprep-native, training version:27.0.0, current version:26.0.0\n",
      "Package:azureml-dataprep-rslex, training version:1.5.0, current version:1.4.0\n",
      "Package:azureml-dataset-runtime, training version:1.20.0, current version:1.19.0.post1\n",
      "Package:azureml-defaults, training version:1.20.0, current version:1.19.0\n",
      "Package:azureml-interpret, training version:1.20.0, current version:1.19.0\n",
      "Package:azureml-pipeline-core, training version:1.20.0, current version:1.19.0\n",
      "Package:azureml-telemetry, training version:1.20.0, current version:1.19.0\n",
      "Package:azureml-train-automl-client, training version:1.20.0, current version:1.19.0\n",
      "Package:azureml-train-automl-runtime, training version:1.20.0, current version:1.19.0\n",
      "WARNING:root:Please ensure the version of your local conda dependencies match the version on which your model was trained in order to properly retrieve your model.\n"
     ]
    },
    {
     "name": "stdout",
     "output_type": "stream",
     "text": [
      "Run(Experiment: cc_automl,\n",
      "Id: AutoML_036c5960-9124-4360-b32c-e1c6a0dca31a_28,\n",
      "Type: azureml.scriptrun,\n",
      "Status: Completed)\n",
      "Pipeline(memory=None,\n",
      "         steps=[('datatransformer',\n",
      "                 DataTransformer(enable_dnn=None, enable_feature_sweeping=None,\n",
      "                                 feature_sweeping_config=None,\n",
      "                                 feature_sweeping_timeout=None,\n",
      "                                 featurization_config=None, force_text_dnn=None,\n",
      "                                 is_cross_validation=None,\n",
      "                                 is_onnx_compatible=None, logger=None,\n",
      "                                 observer=None, task=None, working_dir=None)),\n",
      "                ('prefittedsoftvotingclassifier',...\n",
      "                                                                                               objective='reg:logistic',\n",
      "                                                                                               random_state=0,\n",
      "                                                                                               reg_alpha=1.875,\n",
      "                                                                                               reg_lambda=0.8333333333333334,\n",
      "                                                                                               scale_pos_weight=1,\n",
      "                                                                                               seed=None,\n",
      "                                                                                               silent=None,\n",
      "                                                                                               subsample=0.7,\n",
      "                                                                                               tree_method='auto',\n",
      "                                                                                               verbose=-10,\n",
      "                                                                                               verbosity=0))],\n",
      "                                                                     verbose=False))],\n",
      "                                               flatten_transform=None,\n",
      "                                               weights=[0.3333333333333333,\n",
      "                                                        0.16666666666666666,\n",
      "                                                        0.16666666666666666,\n",
      "                                                        0.16666666666666666,\n",
      "                                                        0.16666666666666666]))],\n",
      "         verbose=False)\n",
      "Y_transformer(['LabelEncoder', LabelEncoder()])\n"
     ]
    }
   ],
   "source": [
    "best_run, fitted_model = remote_run.get_output()\n",
    "print(best_run)\n",
    "print(fitted_model)\n",
    "\n",
    "model_ml = best_run.register_model(model_name='Cervical_Cancer_prediction_Biopsy_auto_ml', model_path='./')"
   ]
  },
  {
   "cell_type": "markdown",
   "metadata": {},
   "source": [
    "## Model Deployment\n",
    "\n",
    "Being the better performing model, I shall hereby deploy the `VotingEnsemble` model."
   ]
  },
  {
   "cell_type": "code",
   "execution_count": 22,
   "metadata": {
    "collapsed": true,
    "gather": {
     "logged": 1611395008698
    },
    "jupyter": {
     "outputs_hidden": false,
     "source_hidden": false
    },
    "nteract": {
     "transient": {
      "deleting": false
     }
    }
   },
   "outputs": [],
   "source": [
    "from azureml.core.model import Model\n",
    "from azureml.core import Environment\n",
    "from azureml.core.model import InferenceConfig"
   ]
  },
  {
   "cell_type": "code",
   "execution_count": 23,
   "metadata": {
    "gather": {
     "logged": 1611395011705
    },
    "jupyter": {
     "outputs_hidden": false,
     "source_hidden": false
    },
    "nteract": {
     "transient": {
      "deleting": false
     }
    }
   },
   "outputs": [
    {
     "name": "stdout",
     "output_type": "stream",
     "text": [
      "Downloading from outputs/conda_env_v_1_0_0.yml to ./amlmodel/conda_env_v_1_0_0.yml ...\n",
      "Downloading from outputs/env_dependencies.json to ./amlmodel/env_dependencies.json ...\n",
      "Downloading from outputs/internal_cross_validated_models.pkl to ./amlmodel/internal_cross_validated_models.pkl ...\n",
      "Downloading from outputs/model.onnx to ./amlmodel/model.onnx ...\n",
      "Downloading from outputs/model.pkl to ./amlmodel/model.pkl ...\n",
      "Downloading from outputs/model_onnx.json to ./amlmodel/model_onnx.json ...\n",
      "Downloading from outputs/pipeline_graph.json to ./amlmodel/pipeline_graph.json ...\n",
      "Downloading from outputs/scoring_file_v_1_0_0.py to ./amlmodel/scoring_file_v_1_0_0.py ...\n"
     ]
    }
   ],
   "source": [
    "os.makedirs('./amlmodel', exist_ok=True)\n",
    "\n",
    "best_run.download_file('/outputs/model.pkl',os.path.join('./amlmodel','automl_best_model_cc.pkl'))\n",
    "\n",
    "for f in best_run.get_file_names():\n",
    "    if f.startswith('outputs'):\n",
    "        output_file_path = os.path.join('./amlmodel', f.split('/')[-1])\n",
    "        print(f'Downloading from {f} to {output_file_path} ...')\n",
    "        best_run.download_file(name=f, output_file_path=output_file_path)\n"
   ]
  },
  {
   "cell_type": "markdown",
   "metadata": {
    "collapsed": true,
    "gather": {
     "logged": 1598431657736
    },
    "jupyter": {
     "outputs_hidden": false,
     "source_hidden": false
    },
    "nteract": {
     "transient": {
      "deleting": false
     }
    }
   },
   "source": [
    "TODO: In the cell below, send a request to the web service you deployed to test it."
   ]
  },
  {
   "cell_type": "code",
   "execution_count": 24,
   "metadata": {
    "gather": {
     "logged": 1611395015772
    },
    "jupyter": {
     "outputs_hidden": false,
     "source_hidden": false
    },
    "nteract": {
     "transient": {
      "deleting": false
     }
    }
   },
   "outputs": [],
   "source": [
    "model=best_run.register_model(\n",
    "            model_name = 'automl-bestmodel-cc', \n",
    "            model_path = './outputs/model.pkl',\n",
    "            model_framework=Model.Framework.SCIKITLEARN,\n",
    "            description='Cervical Cancer Prediction'\n",
    ")"
   ]
  },
  {
   "cell_type": "code",
   "execution_count": 25,
   "metadata": {
    "collapsed": true,
    "gather": {
     "logged": 1611395016084
    },
    "jupyter": {
     "outputs_hidden": false,
     "source_hidden": false
    },
    "nteract": {
     "transient": {
      "deleting": false
     }
    }
   },
   "outputs": [],
   "source": [
    "# Download the conda environment file and define the environement\n",
    "best_run.download_file('outputs/conda_env_v_1_0_0.yml', 'conda_env.yml')\n",
    "myenv = Environment.from_conda_specification(name = 'myenv',\n",
    "                                             file_path = 'conda_env.yml')"
   ]
  },
  {
   "cell_type": "code",
   "execution_count": 26,
   "metadata": {
    "gather": {
     "logged": 1611395017072
    },
    "jupyter": {
     "outputs_hidden": false,
     "source_hidden": false
    },
    "nteract": {
     "transient": {
      "deleting": false
     }
    }
   },
   "outputs": [],
   "source": [
    "# download the scoring file produced by AutoML\n",
    "best_run.download_file('outputs/scoring_file_v_1_0_0.py', 'score_auto_cc.py')\n",
    "\n",
    "# set inference config\n",
    "inference_config = InferenceConfig(entry_script= 'score_auto_cc.py',\n",
    "                                    environment=myenv)"
   ]
  }
 ],
 "metadata": {
  "kernel_info": {
   "name": "python3"
  },
  "kernelspec": {
   "display_name": "Python 3",
   "language": "python",
   "name": "python3"
  },
  "language_info": {
   "codemirror_mode": {
    "name": "ipython",
    "version": 3
   },
   "file_extension": ".py",
   "mimetype": "text/x-python",
   "name": "python",
   "nbconvert_exporter": "python",
   "pygments_lexer": "ipython3",
   "version": "3.8.5"
  },
  "nteract": {
   "version": "nteract-front-end@1.0.0"
  }
 },
 "nbformat": 4,
 "nbformat_minor": 2
}
